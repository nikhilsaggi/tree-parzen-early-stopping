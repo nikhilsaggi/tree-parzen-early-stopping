{
 "cells": [
  {
   "cell_type": "markdown",
   "metadata": {},
   "source": [
    "# Implementing Early Stopping for Tree-Parzen Estimator Optimization\n",
    "This notebook provides the code underlying the findings in the paper. The notebook evaluates the efficacy of Bayesian hyperparameter optimization using Tree-Parzen Estimators (TPE), an optimizer that builds a posterior of particular hyperparameter configurations yielding an objective loss value. Using an iterative approach (referred to as 'epochs' for this notebook), the optimizer approaches a hyperparameter configuration minimizes objective loss.  \n",
    "  \n",
    "The notebook first measures the marginal effect per epoch of running TPE while using Random Search as a baseline, and then configures / tests a method of early-stopping for TPE, where the algorithm will stop running through epochs once certain thresholds are met. The results are summarized in the accompanying paper. See below table of contents for navigating the notebook."
   ]
  },
  {
   "cell_type": "markdown",
   "metadata": {},
   "source": [
    "## Table of Contents  \n",
    "* #### [Part I: Measuring returns per epoch](#1)\n",
    "    * [OLS](#1a)\n",
    "        * [TPE](#1ai)\n",
    "        * [Random search](#1aii)\n",
    "        * [Comparison](#1aiii)\n",
    "    * [Strong Neural Net](#1b)\n",
    "        * [TPE](#1bi)\n",
    "        * [Random search](#1bii)\n",
    "        * [Comparison](#1biii)\n",
    "    * [Weak Neural Net](#1c)\n",
    "        * [TPE](#1ci)\n",
    "        * [Random search](#1cii)\n",
    "        * [Comparison](#1ciii)\n",
    "* #### [Part II: Early stopping implementation](#2)\n",
    "    * [OLS](#2a)\n",
    "    * [Strong Neural Net](#2b)\n",
    "    * [Weak Neural Net](#2c)"
   ]
  },
  {
   "cell_type": "code",
   "execution_count": 46,
   "metadata": {
    "id": "mcW1xCgWKGDY"
   },
   "outputs": [],
   "source": [
    "import numpy as np\n",
    "import pandas as pd\n",
    "import time\n",
    "\n",
    "import matplotlib as mpl\n",
    "import matplotlib.pyplot as plt\n",
    "import matplotlib.font_manager as fm\n",
    "\n",
    "from hyperopt import hp, tpe, rand, Trials, fmin\n",
    "from hyperopt.pyll.stochastic import sample\n",
    "\n",
    "import torch\n",
    "import torch.nn as nn\n",
    "import torchvision"
   ]
  },
  {
   "cell_type": "code",
   "execution_count": 82,
   "metadata": {},
   "outputs": [],
   "source": [
    "plt.rcParams['font.family'] = 'serif'\n",
    "plt.rcParams['font.size'] = 14\n",
    "plt.rcParams['axes.linewidth'] = 2"
   ]
  },
  {
   "cell_type": "markdown",
   "metadata": {},
   "source": [
    "# Part I: Measuring returns per epoch <a class=\"anchor\" id=\"1\"></a>"
   ]
  },
  {
   "cell_type": "markdown",
   "metadata": {
    "id": "XPagcEpWKGDa"
   },
   "source": [
    "## a. OLS <a class=\"anchor\" id=\"1a\"></a>"
   ]
  },
  {
   "cell_type": "code",
   "execution_count": 21,
   "metadata": {
    "id": "R036KclRKGDb"
   },
   "outputs": [],
   "source": [
    "# Generate random training data for an OLS problem with random parameters\n",
    "ols_x = np.random.randint(-10, 10, size=500)\n",
    "ols_y = np.random.randint(0,50)*ols_x + np.random.randint(0,50)"
   ]
  },
  {
   "cell_type": "markdown",
   "metadata": {
    "id": "lzmLmAuDKGDd"
   },
   "source": [
    "#### TPE <a class=\"anchor\" id=\"1ai\"></a>"
   ]
  },
  {
   "cell_type": "code",
   "execution_count": 22,
   "metadata": {},
   "outputs": [],
   "source": [
    "# set up model (tracking point of minimum loss)\n",
    "def tpe_ols(params):\n",
    "    beta0 = params['beta0']\n",
    "    beta1 = params['beta1']\n",
    "    \n",
    "    loss = sum((ols_y - beta0 - beta1*ols_x)**2)\n",
    "    \n",
    "    global tpe_min_losses\n",
    "    global tpe_min_loss\n",
    "    \n",
    "    if tpe_min_loss == None or loss < tpe_min_loss:\n",
    "        tpe_min_loss = loss\n",
    "    tpe_min_losses.append(tpe_min_loss)\n",
    "    \n",
    "    return loss"
   ]
  },
  {
   "cell_type": "code",
   "execution_count": 79,
   "metadata": {
    "colab": {
     "base_uri": "https://localhost:8080/"
    },
    "id": "Qj4SurRbKGDd",
    "outputId": "4feaa5f7-f9b7-4964-c735-e0ea59416918"
   },
   "outputs": [
    {
     "name": "stdout",
     "output_type": "stream",
     "text": [
      "100%|█████████████████████████████████████████████| 2000/2000 [00:29<00:00, 66.98trial/s, best loss: 521.1712035214351]\n"
     ]
    },
    {
     "data": {
      "text/plain": [
       "{'beta0': 10.76592837253753, 'beta1': 16.14118251639113}"
      ]
     },
     "execution_count": 79,
     "metadata": {},
     "output_type": "execute_result"
    }
   ],
   "source": [
    "# Find optimal parameters using Hyperopt library\n",
    "# define parameter space\n",
    "space = {\n",
    "    'beta0': hp.uniform('beta0', -100, 100),\n",
    "    'beta1': hp.uniform('beta1', -100, 100)\n",
    "}\n",
    "\n",
    "tpe_algo = tpe.suggest # select TPE algorithm\n",
    "tpe_trials = Trials() # declare variable to access intermediate epoch info (for analysis)\n",
    "\n",
    "# declare global variables to track changes in loss over epochs\n",
    "tpe_min_losses = []\n",
    "tpe_min_loss = None\n",
    "\n",
    "# run optimizer\n",
    "tpe_best = fmin(fn=tpe_ols, space=space, algo=tpe_algo, trials=tpe_trials, \n",
    "                max_evals=2000, rstate= np.random.RandomState(50))\n",
    "\n",
    "tpe_best"
   ]
  },
  {
   "cell_type": "markdown",
   "metadata": {
    "id": "UK60dO6bKGDb"
   },
   "source": [
    "#### Random search <a class=\"anchor\" id=\"1aii\"></a>"
   ]
  },
  {
   "cell_type": "code",
   "execution_count": 24,
   "metadata": {},
   "outputs": [],
   "source": [
    "# set up model\n",
    "def ols(params):\n",
    "    beta0 = params['beta0']\n",
    "    beta1 = params['beta1']\n",
    "    \n",
    "    return sum((ols_y - beta0 - beta1*ols_x)**2)"
   ]
  },
  {
   "cell_type": "code",
   "execution_count": 33,
   "metadata": {
    "id": "ckZp16g0KGDc",
    "outputId": "f6f8944c-9870-4b1e-8ed3-5adc0b2151d0"
   },
   "outputs": [
    {
     "name": "stdout",
     "output_type": "stream",
     "text": [
      "0.24260807037353516\n"
     ]
    },
    {
     "data": {
      "text/plain": [
       "(11, 16)"
      ]
     },
     "execution_count": 33,
     "metadata": {},
     "output_type": "execute_result"
    }
   ],
   "source": [
    "params = np.zeros((100,100))\n",
    "params.fill(np.iinfo(int).max-1)\n",
    "rand_min_losses = []\n",
    "rand_min_loss = None\n",
    "\n",
    "time0 = time.time()\n",
    "for _ in range(2000): # 2000 epochs\n",
    "    b0 = np.random.randint(0,50)\n",
    "    b1 = np.random.randint(0,50)\n",
    "    \n",
    "    loss = ols({'beta0': b0, 'beta1': b1})\n",
    "    params[b0,b1] = loss\n",
    "    \n",
    "    if rand_min_loss == None or loss < rand_min_loss:\n",
    "        rand_min_loss = loss\n",
    "    rand_min_losses.append(rand_min_loss)\n",
    "\n",
    "print(time.time() - time0)\n",
    "\n",
    "np.unravel_index(params.argmin(), params.shape)"
   ]
  },
  {
   "cell_type": "markdown",
   "metadata": {},
   "source": [
    "#### Comparison of Random search and TPE <a class=\"anchor\" id=\"1aiii\"></a>"
   ]
  },
  {
   "cell_type": "code",
   "execution_count": 240,
   "metadata": {},
   "outputs": [
    {
     "data": {
      "image/png": "[encoded data removed]",
      "text/plain": [
       "<Figure size 288x216 with 1 Axes>"
      ]
     },
     "metadata": {
      "needs_background": "light"
     },
     "output_type": "display_data"
    }
   ],
   "source": [
    "fig = plt.figure(figsize=(4, 3))\n",
    "ax = fig.add_axes([0, 0, 1, 1])\n",
    "\n",
    "plt.plot(rand_min_losses, label=\"Random search\", linewidth=5, color='#008800')\n",
    "plt.plot(tpe_min_losses, label=\"Tree-Parzen estimator\", linewidth=5, color='#0000FF')\n",
    "plt.title(\"Minimum loss per epoch, OLS\", pad=20)\n",
    "plt.xlabel(\"Epoch\")\n",
    "plt.ylabel(\"Minimum loss\")\n",
    "plt.xlim(0,2000)\n",
    "plt.ylim(0,200_000)\n",
    "\n",
    "ax.legend(bbox_to_anchor=(1, 1), loc=1, frameon=False, fontsize=12)\n",
    "\n",
    "ax.xaxis.set_tick_params(which='major', size=10, width=2, direction='in', top='on')\n",
    "ax.xaxis.set_tick_params(which='minor', size=7, width=2, direction='in', top='on')\n",
    "ax.yaxis.set_tick_params(which='major', size=10, width=2, direction='in', right='on')\n",
    "ax.yaxis.set_tick_params(which='minor', size=7, width=2, direction='in', right='on')\n",
    "\n",
    "ax.xaxis.set_major_locator(mpl.ticker.MultipleLocator(500))\n",
    "ax.xaxis.set_minor_locator(mpl.ticker.MultipleLocator(250))\n",
    "ax.yaxis.set_major_locator(mpl.ticker.MultipleLocator(50_000))\n",
    "ax.yaxis.set_minor_locator(mpl.ticker.MultipleLocator(25_000))\n",
    "\n",
    "plt.show()"
   ]
  },
  {
   "cell_type": "code",
   "execution_count": 48,
   "metadata": {},
   "outputs": [
    {
     "name": "stdout",
     "output_type": "stream",
     "text": [
      "TPE: min loss of 559.59 obtained at epoch 1344\n",
      "Random: min loss of 0 obtained at epoch 1444\n"
     ]
    }
   ],
   "source": [
    "print(f\"TPE: min loss of {tpe_min_loss :.2f} obtained at epoch {tpe_min_losses.index(tpe_min_loss)}\")\n",
    "print(f\"Random: min loss of {rand_min_loss} obtained at epoch {rand_min_losses.index(rand_min_loss)}\")"
   ]
  },
  {
   "cell_type": "code",
   "execution_count": 64,
   "metadata": {},
   "outputs": [
    {
     "name": "stderr",
     "output_type": "stream",
     "text": [
      "C:\\Users\\User\\Anaconda3\\lib\\site-packages\\ipykernel_launcher.py:2: RuntimeWarning: invalid value encountered in int_scalars\n",
      "  \n"
     ]
    }
   ],
   "source": [
    "# percent decrease in loss per epoch\n",
    "percent_loss_rand = [(rand_min_losses[i] - rand_min_losses[i-1]) / rand_min_losses[i-1] for i in range(1,len(rand_min_losses))]\n",
    "percent_loss_tpe = [(tpe_min_losses[i] - tpe_min_losses[i-1]) / tpe_min_losses[i-1] for i in range(1,len(tpe_min_losses))]"
   ]
  },
  {
   "cell_type": "code",
   "execution_count": 68,
   "metadata": {},
   "outputs": [
    {
     "name": "stderr",
     "output_type": "stream",
     "text": [
      "C:\\Users\\User\\Anaconda3\\lib\\site-packages\\ipykernel_launcher.py:1: RuntimeWarning: divide by zero encountered in int_scalars\n",
      "  \"\"\"Entry point for launching an IPython kernel.\n",
      "C:\\Users\\User\\Anaconda3\\lib\\site-packages\\ipykernel_launcher.py:1: RuntimeWarning: invalid value encountered in int_scalars\n",
      "  \"\"\"Entry point for launching an IPython kernel.\n"
     ]
    }
   ],
   "source": [
    "acceptable_loss_rand = [(loss - rand_min_loss) / rand_min_loss for loss in rand_min_losses]\n",
    "acceptable_loss_tpe = [(loss - tpe_min_loss) / tpe_min_loss for loss in tpe_min_losses]"
   ]
  },
  {
   "cell_type": "code",
   "execution_count": null,
   "metadata": {
    "colab": {
     "base_uri": "https://localhost:8080/",
     "height": 791
    },
    "id": "brBFqC_GKGDe",
    "outputId": "3fe257fc-5244-46f9-c9ec-79ef345e7f1a"
   },
   "outputs": [
    {
     "data": {
      "image/png": "[encoded data removed]",
      "text/plain": [
       "<Figure size 576x432 with 1 Axes>"
      ]
     },
     "metadata": {
      "needs_background": "light",
      "tags": []
     },
     "output_type": "display_data"
    },
    {
     "data": {
      "image/png": "[encoded data removed]",
      "text/plain": [
       "<Figure size 576x432 with 1 Axes>"
      ]
     },
     "metadata": {
      "needs_background": "light",
      "tags": []
     },
     "output_type": "display_data"
    }
   ],
   "source": [
    "plt.figure(figsize = (8, 6))\n",
    "plt.hist(tpe_trials.idxs_vals[1]['beta0'], bins = 100, edgecolor = 'k', range=(-50,100));\n",
    "plt.title('beta_0 values tried (actual=5)'); plt.xlabel('Value of x'); plt.ylabel('Count');\n",
    "\n",
    "plt.figure(figsize = (8, 6))\n",
    "plt.hist(tpe_trials.idxs_vals[1]['beta1'], bins = 100, edgecolor = 'k', range=(-50,100));\n",
    "plt.title('beta_1 values tried (actual=2)'); plt.xlabel('Value of x'); plt.ylabel('Count');"
   ]
  },
  {
   "cell_type": "markdown",
   "metadata": {
    "id": "m-oV1cfMKGDe"
   },
   "source": [
    "## b. Strong Neural Net (with MNIST) <a class=\"anchor\" id=\"1b\"></a>"
   ]
  },
  {
   "cell_type": "code",
   "execution_count": null,
   "metadata": {
    "colab": {
     "base_uri": "https://localhost:8080/"
    },
    "id": "A1BrhAGeKGDf",
    "outputId": "5d317f74-3e13-4c52-9bbe-63d654e157e6"
   },
   "outputs": [
    {
     "name": "stdout",
     "output_type": "stream",
     "text": [
      "\n",
      "\n",
      "\n"
     ]
    }
   ],
   "source": [
    "# Set up model\n",
    "class Flatten(nn.Module):\n",
    "    def forward(self, input):\n",
    "        return input.view(input.size(0), -1)\n",
    "\n",
    "transform = torchvision.transforms.ToTensor()\n",
    "mnist_train = torchvision.datasets.MNIST(root='.', train=True, transform=transform, download=True)\n",
    "\n",
    "mnist_train, mnist_val = torch.utils.data.random_split(mnist_train, (int(0.9*len(mnist_train)), int(0.1*len(mnist_train))))\n",
    "\n",
    "# model with smaller convolutional layers\n",
    "class SimpleModel(nn.Module):\n",
    "    def __init__(self):\n",
    "        super(SimpleModel, self).__init__()\n",
    "\n",
    "        self.conv1 = nn.Conv2d(in_channels = 1, out_channels = 32, kernel_size = 3)\n",
    "        self.relu1 = nn.ReLU()\n",
    "        self.pool1 = nn.MaxPool2d(kernel_size = 2)\n",
    "        \n",
    "        self.conv2 = nn.Conv2d(in_channels = 32, out_channels = 32, kernel_size = 3)\n",
    "        self.relu2 = nn.ReLU()\n",
    "        self.pool2 = nn.MaxPool2d(kernel_size = 2)\n",
    "        \n",
    "        self.flatten = Flatten()\n",
    "        \n",
    "        self.fc1 = nn.Linear(in_features = 800, out_features = 128)\n",
    "        self.relu3 = nn.ReLU()\n",
    "        \n",
    "        self.fc2 = nn.Linear(in_features = 128, out_features = 10)\n",
    "\n",
    "\n",
    "    def forward(self, x):     \n",
    "        x = self.conv1(x)\n",
    "        x = self.relu1(x)\n",
    "        x = self.pool1(x)\n",
    "        \n",
    "        x = self.conv2(x)\n",
    "        x = self.relu2(x)\n",
    "        x = self.pool2(x)\n",
    "                \n",
    "        x = self.flatten(x)\n",
    "        \n",
    "        x = self.fc1(x)\n",
    "        x = self.relu3(x)\n",
    "        \n",
    "        x = self.fc2(x)\n",
    "\n",
    "        return x\n",
    "    \n",
    "# model with larger convolutional layers\n",
    "class LargerModel(nn.Module):\n",
    "    def __init__(self):\n",
    "        super(LargerModel, self).__init__()\n",
    "\n",
    "        self.conv1 = nn.Conv2d(in_channels = 1, out_channels = 64, kernel_size = 3)\n",
    "        self.relu1 = nn.ReLU()\n",
    "        self.pool1 = nn.MaxPool2d(kernel_size = 2)\n",
    "        \n",
    "        self.conv2 = nn.Conv2d(in_channels = 64, out_channels = 64, kernel_size = 3)\n",
    "        self.relu2 = nn.ReLU()\n",
    "        self.pool2 = nn.MaxPool2d(kernel_size = 2)\n",
    "        \n",
    "        self.flatten = Flatten()\n",
    "        \n",
    "        self.fc1 = nn.Linear(in_features = 1600, out_features = 256)\n",
    "        self.relu3 = nn.ReLU()\n",
    "        \n",
    "        self.fc2 = nn.Linear(in_features = 256, out_features = 10)\n",
    "\n",
    "\n",
    "    def forward(self, x):     \n",
    "        x = self.conv1(x)\n",
    "        x = self.relu1(x)\n",
    "        x = self.pool1(x)\n",
    "        \n",
    "        x = self.conv2(x)\n",
    "        x = self.relu2(x)\n",
    "        x = self.pool2(x)\n",
    "                \n",
    "        x = self.flatten(x)\n",
    "        \n",
    "        x = self.fc1(x)\n",
    "        x = self.relu3(x)\n",
    "        \n",
    "        x = self.fc2(x)\n",
    "\n",
    "        return x"
   ]
  },
  {
   "cell_type": "code",
   "execution_count": null,
   "metadata": {
    "id": "wXcTb00UKGDg"
   },
   "outputs": [],
   "source": [
    "# train model using one of the architectures defined above\n",
    "def run_model(batch_size=32, alpha=0.001, beta=0.99, model_to_use='simple', num_epochs=5):\n",
    "    train_loader = torch.utils.data.DataLoader(mnist_train, batch_size=batch_size)\n",
    "    val_loader = torch.utils.data.DataLoader(mnist_val, batch_size=batch_size)\n",
    "    \n",
    "    if model_to_use == 'simple':\n",
    "        model = SimpleModel()\n",
    "    else:\n",
    "        model = LargerModel()\n",
    "        \n",
    "    optimizer = torch.optim.SGD(model.parameters(), lr=alpha, momentum=beta)\n",
    "    loss = torch.nn.CrossEntropyLoss()\n",
    "    \n",
    "    val_errors   = []\n",
    "    \n",
    "    val_error = 0\n",
    "    for X, y in val_loader:\n",
    "        val_error += sum([torch.argmax(preds) for preds in model(X)] != y.numpy())\n",
    "\n",
    "    val_error /= len(mnist_val)\n",
    "    val_errors.append(val_error)\n",
    "\n",
    "    def train():\n",
    "        for X, y in train_loader:\n",
    "            optimizer.zero_grad()\n",
    "            output = model(X)\n",
    "            \n",
    "            tloss = loss(output, y)\n",
    "            tloss.backward()    \n",
    "            optimizer.step()\n",
    "            \n",
    "    for epoch in range(num_epochs):\n",
    "        train()\n",
    "        \n",
    "        val_error = 0\n",
    "        for X, y in val_loader:\n",
    "            val_error += sum([torch.argmax(preds) for preds in model(X)] != y.numpy())\n",
    "\n",
    "        val_error /= len(mnist_val)\n",
    "        val_errors.append(val_error)\n",
    "        \n",
    "    return val_errors"
   ]
  },
  {
   "cell_type": "code",
   "execution_count": null,
   "metadata": {
    "id": "319icd-mfilY"
   },
   "outputs": [],
   "source": [
    "final_validation_errs = []\n",
    "validation_errs = []\n",
    "\n",
    "# compute validation error of a run\n",
    "# parameterized on batch size, learning rate, momentum coefficient and model network size\n",
    "def objective_err(params):\n",
    "    params['batch_size'] = int(2**params['batch_size'])\n",
    "    \n",
    "    val_errs = run_model(batch_size=params['batch_size'], \n",
    "                         alpha=params['alpha'],\n",
    "                         beta=params['beta'],\n",
    "                         model_to_use=params['model_to_use'])\n",
    "\n",
    "    global validation_errs\n",
    "    global final_validation_errs\n",
    "\n",
    "    validation_errs.append(val_errs)\n",
    "    final_validation_errs.append(val_errs[-1])    \n",
    "\n",
    "    return val_errs[-1]\n",
    "    \n",
    "space = {\n",
    "    'batch_size': hp.quniform('batch_size', 4, 7, 1),\n",
    "    'alpha': hp.uniform('alpha', 0.00001, 0.1),\n",
    "    'beta': hp.uniform('beta', 0, 1),\n",
    "    'model_to_use': hp.choice('model_to_use', [\"simple\", \"larger\"])\n",
    "}"
   ]
  },
  {
   "cell_type": "markdown",
   "metadata": {
    "id": "bSrNBIbjfwtT"
   },
   "source": [
    "#### TPE <a class=\"anchor\" id=\"1bi\"></a>"
   ]
  },
  {
   "cell_type": "code",
   "execution_count": null,
   "metadata": {
    "colab": {
     "base_uri": "https://localhost:8080/"
    },
    "id": "XBcnRdkzKGDh",
    "outputId": "af003c8e-1d84-4d1e-f945-b4ec7852cb28"
   },
   "outputs": [
    {
     "name": "stdout",
     "output_type": "stream",
     "text": [
      "\n",
      "\n",
      "  0%|          | 0/100 [00:00<?, ?it/s, best loss: ?]\u001b[A\u001b[A\n",
      "\n",
      "  1%|          | 1/100 [00:52<1:26:18, 52.31s/it, best loss: 0.04816666666666667]\u001b[A\u001b[A\n",
      "\n",
      "  2%|▏         | 2/100 [01:44<1:25:27, 52.32s/it, best loss: 0.04816666666666667]\u001b[A\u001b[A\n",
      "\n",
      "  3%|▎         | 3/100 [02:07<1:10:31, 43.63s/it, best loss: 0.04616666666666667]\u001b[A\u001b[A\n",
      "\n",
      "  4%|▍         | 4/100 [02:33<1:01:08, 38.21s/it, best loss: 0.04616666666666667]\u001b[A\u001b[A\n",
      "\n",
      "  5%|▌         | 5/100 [03:26<1:07:21, 42.54s/it, best loss: 0.03283333333333333]\u001b[A\u001b[A\n",
      "\n",
      "  6%|▌         | 6/100 [03:50<57:51, 36.93s/it, best loss: 0.03283333333333333]  \u001b[A\u001b[A\n",
      "\n",
      "  7%|▋         | 7/100 [04:42<1:04:22, 41.53s/it, best loss: 0.03283333333333333]\u001b[A\u001b[A\n",
      "\n",
      "  8%|▊         | 8/100 [05:35<1:08:54, 44.94s/it, best loss: 0.03283333333333333]\u001b[A\u001b[A\n",
      "\n",
      "  9%|▉         | 9/100 [06:27<1:11:37, 47.23s/it, best loss: 0.03283333333333333]\u001b[A\u001b[A\n",
      "\n",
      " 10%|█         | 10/100 [07:21<1:13:40, 49.11s/it, best loss: 0.03283333333333333]\u001b[A\u001b[A\n",
      "\n",
      " 11%|█         | 11/100 [08:14<1:14:33, 50.26s/it, best loss: 0.03283333333333333]\u001b[A\u001b[A\n",
      "\n",
      " 12%|█▏        | 12/100 [08:38<1:02:16, 42.46s/it, best loss: 0.03283333333333333]\u001b[A\u001b[A\n",
      "\n",
      " 13%|█▎        | 13/100 [09:03<53:46, 37.09s/it, best loss: 0.03283333333333333]  \u001b[A\u001b[A\n",
      "\n",
      " 14%|█▍        | 14/100 [09:56<1:00:05, 41.92s/it, best loss: 0.03283333333333333]\u001b[A\u001b[A\n",
      "\n",
      " 15%|█▌        | 15/100 [10:48<1:03:43, 44.98s/it, best loss: 0.03283333333333333]\u001b[A\u001b[A\n",
      "\n",
      " 16%|█▌        | 16/100 [11:38<1:05:02, 46.46s/it, best loss: 0.03283333333333333]\u001b[A\u001b[A\n",
      "\n",
      " 17%|█▋        | 17/100 [12:02<55:09, 39.87s/it, best loss: 0.03283333333333333]  \u001b[A\u001b[A\n",
      "\n",
      " 18%|█▊        | 18/100 [12:55<59:40, 43.66s/it, best loss: 0.0325]             \u001b[A\u001b[A\n",
      "\n",
      " 19%|█▉        | 19/100 [13:19<51:05, 37.84s/it, best loss: 0.0325]\u001b[A\u001b[A\n",
      "\n",
      " 20%|██        | 20/100 [14:11<56:10, 42.13s/it, best loss: 0.0325]\u001b[A\u001b[A\n",
      "\n",
      " 22%|██▏       | 22/100 [15:01<43:24, 33.39s/it, best loss: 0.0325]\u001b[A\u001b[A\n",
      "\n",
      " 23%|██▎       | 23/100 [15:54<50:13, 39.14s/it, best loss: 0.0325]\u001b[A\u001b[A\n",
      "\n",
      " 24%|██▍       | 24/100 [16:46<54:27, 43.00s/it, best loss: 0.026166666666666668]\u001b[A\u001b[A\n",
      "\n",
      " 25%|██▌       | 25/100 [17:11<46:51, 37.49s/it, best loss: 0.026166666666666668]\u001b[A\u001b[A\n",
      "\n",
      " 26%|██▌       | 26/100 [17:35<41:32, 33.69s/it, best loss: 0.026166666666666668]\u001b[A\u001b[A\n",
      "\n",
      " 27%|██▋       | 27/100 [18:01<37:50, 31.10s/it, best loss: 0.026166666666666668]\u001b[A\u001b[A\n",
      "\n",
      " 28%|██▊       | 28/100 [18:53<45:08, 37.62s/it, best loss: 0.026166666666666668]\u001b[A\u001b[A\n",
      "\n",
      " 29%|██▉       | 29/100 [19:18<39:49, 33.66s/it, best loss: 0.026166666666666668]\u001b[A\u001b[A\n",
      "\n",
      " 30%|███       | 30/100 [20:10<45:55, 39.36s/it, best loss: 0.026166666666666668]\u001b[A\u001b[A\n",
      "\n",
      " 31%|███       | 31/100 [21:00<48:56, 42.56s/it, best loss: 0.026166666666666668]\u001b[A\u001b[A\n",
      "\n",
      " 32%|███▏      | 32/100 [21:53<51:42, 45.63s/it, best loss: 0.026166666666666668]\u001b[A\u001b[A\n",
      "\n",
      " 33%|███▎      | 33/100 [22:18<44:01, 39.42s/it, best loss: 0.026166666666666668]\u001b[A\u001b[A\n",
      "\n",
      " 34%|███▍      | 34/100 [23:11<47:50, 43.49s/it, best loss: 0.026166666666666668]\u001b[A\u001b[A\n",
      "\n",
      " 35%|███▌      | 35/100 [24:03<49:52, 46.03s/it, best loss: 0.026166666666666668]\u001b[A\u001b[A\n",
      "\n",
      " 36%|███▌      | 36/100 [24:55<51:05, 47.90s/it, best loss: 0.026166666666666668]\u001b[A\u001b[A\n",
      "\n",
      " 37%|███▋      | 37/100 [25:48<51:43, 49.27s/it, best loss: 0.026166666666666668]\u001b[A\u001b[A\n",
      "\n",
      " 38%|███▊      | 38/100 [26:40<51:47, 50.12s/it, best loss: 0.026166666666666668]\u001b[A\u001b[A\n",
      "\n",
      " 39%|███▉      | 39/100 [27:33<51:43, 50.88s/it, best loss: 0.026166666666666668]\u001b[A\u001b[A\n",
      "\n",
      " 40%|████      | 40/100 [28:24<51:07, 51.12s/it, best loss: 0.026166666666666668]\u001b[A\u001b[A\n",
      "\n",
      " 41%|████      | 41/100 [28:49<42:23, 43.10s/it, best loss: 0.026166666666666668]\u001b[A\u001b[A\n",
      "\n",
      " 42%|████▏     | 42/100 [29:14<36:27, 37.71s/it, best loss: 0.026166666666666668]\u001b[A\u001b[A\n",
      "\n",
      " 43%|████▎     | 43/100 [30:04<39:15, 41.32s/it, best loss: 0.026166666666666668]\u001b[A\u001b[A\n",
      "\n",
      " 44%|████▍     | 44/100 [30:28<33:54, 36.33s/it, best loss: 0.026166666666666668]\u001b[A\u001b[A\n",
      "\n",
      " 45%|████▌     | 45/100 [31:21<37:44, 41.18s/it, best loss: 0.026166666666666668]\u001b[A\u001b[A\n",
      "\n",
      " 46%|████▌     | 46/100 [31:46<32:52, 36.53s/it, best loss: 0.026166666666666668]\u001b[A\u001b[A\n",
      "\n",
      " 47%|████▋     | 47/100 [32:11<29:08, 32.99s/it, best loss: 0.026166666666666668]\u001b[A\u001b[A\n",
      "\n",
      " 48%|████▊     | 48/100 [33:04<33:40, 38.86s/it, best loss: 0.026166666666666668]\u001b[A\u001b[A\n",
      "\n",
      " 49%|████▉     | 49/100 [33:56<36:27, 42.89s/it, best loss: 0.026166666666666668]\u001b[A\u001b[A\n",
      "\n",
      " 50%|█████     | 50/100 [34:48<38:08, 45.77s/it, best loss: 0.026166666666666668]\u001b[A\u001b[A\n",
      "\n",
      " 51%|█████     | 51/100 [35:40<38:49, 47.53s/it, best loss: 0.026166666666666668]\u001b[A\u001b[A\n",
      "\n",
      " 52%|█████▏    | 52/100 [36:31<38:46, 48.46s/it, best loss: 0.026166666666666668]\u001b[A\u001b[A\n",
      "\n",
      " 53%|█████▎    | 53/100 [36:56<32:24, 41.37s/it, best loss: 0.026166666666666668]\u001b[A\u001b[A\n",
      "\n",
      " 54%|█████▍    | 54/100 [37:19<27:41, 36.12s/it, best loss: 0.026166666666666668]\u001b[A\u001b[A\n",
      "\n",
      " 55%|█████▌    | 55/100 [37:43<24:18, 32.42s/it, best loss: 0.026166666666666668]\u001b[A\u001b[A\n",
      "\n",
      " 56%|█████▌    | 56/100 [38:33<27:38, 37.69s/it, best loss: 0.026166666666666668]\u001b[A\u001b[A\n",
      "\n",
      " 57%|█████▋    | 57/100 [39:23<29:42, 41.45s/it, best loss: 0.026166666666666668]\u001b[A\u001b[A\n",
      "\n",
      " 58%|█████▊    | 58/100 [39:47<25:20, 36.21s/it, best loss: 0.026166666666666668]\u001b[A\u001b[A\n",
      "\n",
      " 59%|█████▉    | 59/100 [40:11<22:12, 32.49s/it, best loss: 0.026166666666666668]\u001b[A\u001b[A\n",
      "\n",
      " 60%|██████    | 60/100 [40:35<19:51, 29.79s/it, best loss: 0.026166666666666668]\u001b[A\u001b[A\n",
      "\n",
      " 61%|██████    | 61/100 [40:59<18:12, 28.00s/it, best loss: 0.026166666666666668]\u001b[A\u001b[A\n",
      "\n",
      " 62%|██████▏   | 62/100 [41:22<16:48, 26.54s/it, best loss: 0.026166666666666668]\u001b[A\u001b[A\n",
      "\n",
      " 63%|██████▎   | 63/100 [41:46<15:54, 25.80s/it, best loss: 0.026166666666666668]\u001b[A\u001b[A\n",
      "\n",
      " 64%|██████▍   | 64/100 [42:36<19:50, 33.06s/it, best loss: 0.026166666666666668]\u001b[A\u001b[A\n",
      "\n",
      " 65%|██████▌   | 65/100 [43:25<22:09, 37.97s/it, best loss: 0.026166666666666668]\u001b[A\u001b[A\n",
      "\n",
      " 66%|██████▌   | 66/100 [44:15<23:30, 41.48s/it, best loss: 0.026166666666666668]\u001b[A\u001b[A\n",
      "\n",
      " 67%|██████▋   | 67/100 [45:05<24:14, 44.06s/it, best loss: 0.026166666666666668]\u001b[A\u001b[A\n",
      "\n",
      " 68%|██████▊   | 68/100 [45:28<20:08, 37.75s/it, best loss: 0.026166666666666668]\u001b[A\u001b[A\n",
      "\n",
      " 69%|██████▉   | 69/100 [45:51<17:14, 33.36s/it, best loss: 0.026166666666666668]\u001b[A\u001b[A\n",
      "\n",
      " 70%|███████   | 70/100 [46:41<19:06, 38.22s/it, best loss: 0.026166666666666668]\u001b[A\u001b[A\n",
      "\n",
      " 71%|███████   | 71/100 [47:04<16:19, 33.79s/it, best loss: 0.026166666666666668]\u001b[A\u001b[A\n",
      "\n",
      " 72%|███████▏  | 72/100 [47:53<17:56, 38.44s/it, best loss: 0.026166666666666668]\u001b[A\u001b[A\n",
      "\n",
      " 73%|███████▎  | 73/100 [48:43<18:46, 41.72s/it, best loss: 0.026166666666666668]\u001b[A\u001b[A\n",
      "\n",
      " 74%|███████▍  | 74/100 [49:06<15:39, 36.14s/it, best loss: 0.026166666666666668]\u001b[A\u001b[A\n",
      "\n",
      " 75%|███████▌  | 75/100 [49:29<13:25, 32.24s/it, best loss: 0.026166666666666668]\u001b[A\u001b[A\n",
      "\n",
      " 76%|███████▌  | 76/100 [49:53<11:51, 29.66s/it, best loss: 0.026166666666666668]\u001b[A\u001b[A\n",
      "\n",
      " 77%|███████▋  | 77/100 [50:15<10:32, 27.51s/it, best loss: 0.026166666666666668]\u001b[A\u001b[A\n",
      "\n",
      " 78%|███████▊  | 78/100 [51:02<12:14, 33.40s/it, best loss: 0.026166666666666668]\u001b[A\u001b[A\n",
      "\n",
      " 79%|███████▉  | 79/100 [51:26<10:37, 30.36s/it, best loss: 0.026166666666666668]\u001b[A\u001b[A\n",
      "\n",
      " 80%|████████  | 80/100 [52:15<12:04, 36.24s/it, best loss: 0.026166666666666668]\u001b[A\u001b[A\n",
      "\n",
      " 81%|████████  | 81/100 [53:05<12:46, 40.34s/it, best loss: 0.026166666666666668]\u001b[A\u001b[A\n",
      "\n",
      " 82%|████████▏ | 82/100 [53:55<12:55, 43.06s/it, best loss: 0.026166666666666668]\u001b[A\u001b[A\n",
      "\n",
      " 83%|████████▎ | 83/100 [54:45<12:46, 45.11s/it, best loss: 0.026166666666666668]\u001b[A\u001b[A\n",
      "\n",
      " 84%|████████▍ | 84/100 [55:08<10:18, 38.65s/it, best loss: 0.026166666666666668]\u001b[A\u001b[A\n",
      "\n",
      " 85%|████████▌ | 85/100 [55:32<08:30, 34.04s/it, best loss: 0.026166666666666668]\u001b[A\u001b[A\n",
      "\n",
      " 86%|████████▌ | 86/100 [55:55<07:12, 30.90s/it, best loss: 0.026166666666666668]\u001b[A\u001b[A\n",
      "\n",
      " 87%|████████▋ | 87/100 [56:45<07:54, 36.49s/it, best loss: 0.026166666666666668]\u001b[A\u001b[A\n",
      "\n",
      " 88%|████████▊ | 88/100 [57:35<08:08, 40.72s/it, best loss: 0.026166666666666668]\u001b[A\u001b[A\n",
      "\n",
      " 89%|████████▉ | 89/100 [57:57<06:26, 35.11s/it, best loss: 0.026166666666666668]\u001b[A\u001b[A\n",
      "\n",
      " 90%|█████████ | 90/100 [58:20<05:14, 31.50s/it, best loss: 0.026166666666666668]\u001b[A\u001b[A\n",
      "\n",
      " 91%|█████████ | 91/100 [59:09<05:29, 36.61s/it, best loss: 0.026166666666666668]\u001b[A\u001b[A\n",
      "\n",
      " 92%|█████████▏| 92/100 [59:32<04:21, 32.69s/it, best loss: 0.026166666666666668]\u001b[A\u001b[A\n",
      "\n",
      " 93%|█████████▎| 93/100 [59:56<03:29, 29.96s/it, best loss: 0.026166666666666668]\u001b[A\u001b[A\n",
      "\n",
      " 94%|█████████▍| 94/100 [1:00:47<03:36, 36.14s/it, best loss: 0.026166666666666668]\u001b[A\u001b[A\n",
      "\n",
      " 95%|█████████▌| 95/100 [1:01:37<03:21, 40.29s/it, best loss: 0.026166666666666668]\u001b[A\u001b[A\n",
      "\n",
      " 96%|█████████▌| 96/100 [1:02:00<02:20, 35.19s/it, best loss: 0.026166666666666668]\u001b[A\u001b[A\n",
      "\n",
      " 97%|█████████▋| 97/100 [1:02:23<01:34, 31.65s/it, best loss: 0.026166666666666668]\u001b[A\u001b[A\n",
      "\n",
      " 98%|█████████▊| 98/100 [1:02:46<00:58, 29.08s/it, best loss: 0.026166666666666668]\u001b[A\u001b[A\n",
      "\n",
      " 99%|█████████▉| 99/100 [1:03:09<00:27, 27.09s/it, best loss: 0.026166666666666668]\u001b[A\u001b[A\n",
      "\n",
      "100%|██████████| 100/100 [1:03:59<00:00, 38.39s/it, best loss: 0.026166666666666668]\n",
      "Optimal parameters are: {'alpha': 0.07478229249309479, 'batch_size': 7.0, 'beta': 0.6547740274826084, 'model_to_use': 1}\n"
     ]
    }
   ],
   "source": [
    "tpe_algo = tpe.suggest\n",
    "tpe_trials = Trials()\n",
    "\n",
    "tpe_best = fmin(fn=objective_err, space=space, algo=tpe_algo, trials=tpe_trials, \n",
    "                max_evals=50, rstate= np.random.RandomState(50))\n",
    "\n",
    "print(f\"Optimal parameters are: {tpe_best}\")"
   ]
  },
  {
   "cell_type": "code",
   "execution_count": null,
   "metadata": {
    "id": "VKcUgxy0gcnQ"
   },
   "outputs": [],
   "source": [
    "tpe_validation_errs = validation_errs.copy()\n",
    "tpe_final_validation_errs = final_validation_errs.copy()"
   ]
  },
  {
   "cell_type": "code",
   "execution_count": null,
   "metadata": {
    "colab": {
     "base_uri": "https://localhost:8080/",
     "height": 1000
    },
    "id": "X9OfyIbcQx3v",
    "outputId": "07971dc9-f51a-4d23-866c-88374561e378"
   },
   "outputs": [
    {
     "data": {
      "image/png": "[encoded data removed]",
      "text/plain": [
       "<Figure size 432x288 with 1 Axes>"
      ]
     },
     "metadata": {
      "needs_background": "light",
      "tags": []
     },
     "output_type": "display_data"
    },
    {
     "data": {
      "image/png": "[encoded data removed]",
      "text/plain": [
       "<Figure size 576x432 with 1 Axes>"
      ]
     },
     "metadata": {
      "needs_background": "light",
      "tags": []
     },
     "output_type": "display_data"
    },
    {
     "data": {
      "image/png": "[encoded data removed]",
      "text/plain": [
       "<Figure size 576x432 with 1 Axes>"
      ]
     },
     "metadata": {
      "needs_background": "light",
      "tags": []
     },
     "output_type": "display_data"
    },
    {
     "data": {
      "image/png": "[encoded data removed]",
      "text/plain": [
       "<Figure size 576x432 with 1 Axes>"
      ]
     },
     "metadata": {
      "needs_background": "light",
      "tags": []
     },
     "output_type": "display_data"
    },
    {
     "data": {
      "image/png": "[encoded data removed]",
      "text/plain": [
       "<Figure size 576x432 with 1 Axes>"
      ]
     },
     "metadata": {
      "needs_background": "light",
      "tags": []
     },
     "output_type": "display_data"
    }
   ],
   "source": [
    "plt.plot(final_validation_errs)\n",
    "plt.xlabel(\"Iteration\")\n",
    "plt.ylabel(\"Validation error\")\n",
    "\n",
    "ranges = {\n",
    "    'batch_size': (4, 7),\n",
    "    'alpha': (0.00001, 0.1),\n",
    "    'beta': (0,1),\n",
    "    'model_to_use': (0,1)\n",
    "\n",
    "}\n",
    "for k,v in tpe_trials_err.idxs_vals[1].items():\n",
    "    plt.figure(figsize = (8, 6))\n",
    "    plt.hist(v, bins = 50, edgecolor = 'k', range=ranges[k])\n",
    "    plt.title(f'{k} values tried'); plt.xlabel(f'Value of {k}'); plt.ylabel('Count');"
   ]
  },
  {
   "cell_type": "code",
   "execution_count": null,
   "metadata": {
    "colab": {
     "base_uri": "https://localhost:8080/",
     "height": 295
    },
    "id": "B6kZTNOPI5dS",
    "outputId": "65ef4624-88ca-46a8-8ba8-c35c23ab98d4"
   },
   "outputs": [
    {
     "data": {
      "image/png": "[encoded data removed]",
      "text/plain": [
       "<Figure size 432x288 with 1 Axes>"
      ]
     },
     "metadata": {
      "needs_background": "light",
      "tags": []
     },
     "output_type": "display_data"
    }
   ],
   "source": [
    "best_tpe = tpe_trials.best_trial['result']['loss']\n",
    "\n",
    "plt.scatter(range(0,100), [i['loss'] - best_tpe for i in tpe_trials.results])\n",
    "plt.ylim(0,0.2)\n",
    "plt.title(\"Distance from optimal TPE validation error\")\n",
    "plt.xlabel(\"Epoch\")\n",
    "plt.ylabel(\"Validation error\")\n",
    "plt.show()"
   ]
  },
  {
   "cell_type": "markdown",
   "metadata": {
    "id": "cP6tsekPWlPO"
   },
   "source": [
    "#### Random search <a class=\"anchor\" id=\"1bii\"></a>"
   ]
  },
  {
   "cell_type": "code",
   "execution_count": null,
   "metadata": {
    "colab": {
     "base_uri": "https://localhost:8080/"
    },
    "id": "0B3H16rDV6GW",
    "outputId": "813cdd6e-38bd-4895-ad90-37573422a80f",
    "scrolled": true
   },
   "outputs": [
    {
     "name": "stdout",
     "output_type": "stream",
     "text": [
      "\n",
      "\n",
      "  0%|          | 0/50 [00:00<?, ?it/s, best loss: ?]\u001b[A\u001b[A\n",
      "\n",
      "  2%|▏         | 1/50 [00:49<40:40, 49.81s/it, best loss: 0.039]\u001b[A\u001b[A\n",
      "\n",
      "  4%|▍         | 2/50 [01:39<39:52, 49.85s/it, best loss: 0.039]\u001b[A\u001b[A\n",
      "\n",
      "  6%|▌         | 3/50 [02:02<32:43, 41.77s/it, best loss: 0.039]\u001b[A\u001b[A\n",
      "\n",
      "  8%|▊         | 4/50 [02:26<28:00, 36.53s/it, best loss: 0.039]\u001b[A\u001b[A\n",
      "\n",
      " 10%|█         | 5/50 [03:17<30:26, 40.58s/it, best loss: 0.039]\u001b[A\u001b[A\n",
      "\n",
      " 12%|█▏        | 6/50 [03:39<25:44, 35.11s/it, best loss: 0.039]\u001b[A\u001b[A\n",
      "\n",
      " 14%|█▍        | 7/50 [04:29<28:19, 39.53s/it, best loss: 0.039]\u001b[A\u001b[A\n",
      "\n",
      " 16%|█▌        | 8/50 [05:19<29:55, 42.76s/it, best loss: 0.039]\u001b[A\u001b[A\n",
      "\n",
      " 18%|█▊        | 9/50 [06:09<30:41, 44.91s/it, best loss: 0.03716666666666667]\u001b[A\u001b[A\n",
      "\n",
      " 20%|██        | 10/50 [07:00<31:11, 46.79s/it, best loss: 0.03716666666666667]\u001b[A\u001b[A\n",
      "\n",
      " 22%|██▏       | 11/50 [07:50<30:59, 47.68s/it, best loss: 0.03716666666666667]\u001b[A\u001b[A\n",
      "\n",
      " 24%|██▍       | 12/50 [08:13<25:31, 40.30s/it, best loss: 0.033666666666666664]\u001b[A\u001b[A\n",
      "\n",
      " 26%|██▌       | 13/50 [08:37<21:45, 35.29s/it, best loss: 0.0305]              \u001b[A\u001b[A\n",
      "\n",
      " 28%|██▊       | 14/50 [09:27<23:52, 39.79s/it, best loss: 0.0305]\u001b[A\u001b[A\n",
      "\n",
      " 30%|███       | 15/50 [10:17<25:00, 42.87s/it, best loss: 0.0305]\u001b[A\u001b[A\n",
      "\n",
      " 32%|███▏      | 16/50 [11:05<25:06, 44.31s/it, best loss: 0.0305]\u001b[A\u001b[A\n",
      "\n",
      " 34%|███▍      | 17/50 [11:28<20:57, 38.10s/it, best loss: 0.0305]\u001b[A\u001b[A\n",
      "\n",
      " 36%|███▌      | 18/50 [12:18<22:16, 41.75s/it, best loss: 0.0305]\u001b[A\u001b[A\n",
      "\n",
      " 38%|███▊      | 19/50 [12:42<18:45, 36.30s/it, best loss: 0.0305]\u001b[A\u001b[A\n",
      "\n",
      " 40%|████      | 20/50 [13:31<20:04, 40.16s/it, best loss: 0.0305]\u001b[A\u001b[A\n",
      "\n",
      " 42%|████▏     | 21/50 [13:56<17:11, 35.55s/it, best loss: 0.0305]\u001b[A\u001b[A\n",
      "\n",
      " 44%|████▍     | 22/50 [14:19<14:50, 31.81s/it, best loss: 0.0305]\u001b[A\u001b[A\n",
      "\n",
      " 46%|████▌     | 23/50 [15:08<16:41, 37.09s/it, best loss: 0.0305]\u001b[A\u001b[A\n",
      "\n",
      " 48%|████▊     | 24/50 [15:59<17:52, 41.25s/it, best loss: 0.0305]\u001b[A\u001b[A\n",
      "\n",
      " 50%|█████     | 25/50 [16:24<15:03, 36.13s/it, best loss: 0.0305]\u001b[A\u001b[A\n",
      "\n",
      " 52%|█████▏    | 26/50 [16:48<13:01, 32.55s/it, best loss: 0.0305]\u001b[A\u001b[A\n",
      "\n",
      " 54%|█████▍    | 27/50 [17:12<11:30, 30.03s/it, best loss: 0.0305]\u001b[A\u001b[A\n",
      "\n",
      " 56%|█████▌    | 28/50 [18:02<13:12, 36.04s/it, best loss: 0.0305]\u001b[A\u001b[A\n",
      "\n",
      " 58%|█████▊    | 29/50 [18:25<11:16, 32.21s/it, best loss: 0.0305]\u001b[A\u001b[A\n",
      "\n",
      " 60%|██████    | 30/50 [19:15<12:31, 37.59s/it, best loss: 0.0305]\u001b[A\u001b[A\n",
      "\n",
      " 62%|██████▏   | 31/50 [20:03<12:52, 40.64s/it, best loss: 0.0305]\u001b[A\u001b[A\n",
      "\n",
      " 64%|██████▍   | 32/50 [20:54<13:03, 43.54s/it, best loss: 0.0305]\u001b[A\u001b[A\n",
      "\n",
      " 66%|██████▌   | 33/50 [21:17<10:40, 37.65s/it, best loss: 0.0305]\u001b[A\u001b[A\n",
      "\n",
      " 68%|██████▊   | 34/50 [22:07<11:01, 41.33s/it, best loss: 0.030333333333333334]\u001b[A\u001b[A\n",
      "\n",
      " 70%|███████   | 35/50 [22:57<10:56, 43.75s/it, best loss: 0.030333333333333334]\u001b[A\u001b[A\n",
      "\n",
      " 72%|███████▏  | 36/50 [23:47<10:38, 45.62s/it, best loss: 0.030333333333333334]\u001b[A\u001b[A\n",
      "\n",
      " 74%|███████▍  | 37/50 [24:37<10:10, 46.96s/it, best loss: 0.030333333333333334]\u001b[A\u001b[A\n",
      "\n",
      " 76%|███████▌  | 38/50 [25:27<09:33, 47.82s/it, best loss: 0.030333333333333334]\u001b[A\u001b[A\n",
      "\n",
      " 78%|███████▊  | 39/50 [26:17<08:53, 48.54s/it, best loss: 0.030333333333333334]\u001b[A\u001b[A\n",
      "\n",
      " 80%|████████  | 40/50 [27:06<08:06, 48.68s/it, best loss: 0.030333333333333334]\u001b[A\u001b[A\n",
      "\n",
      " 82%|████████▏ | 41/50 [27:30<06:11, 41.29s/it, best loss: 0.030333333333333334]\u001b[A\u001b[A\n",
      "\n",
      " 84%|████████▍ | 42/50 [27:53<04:47, 35.98s/it, best loss: 0.030333333333333334]\u001b[A\u001b[A\n",
      "\n",
      " 86%|████████▌ | 43/50 [28:41<04:36, 39.47s/it, best loss: 0.030333333333333334]\u001b[A\u001b[A\n",
      "\n",
      " 88%|████████▊ | 44/50 [29:05<03:27, 34.67s/it, best loss: 0.030333333333333334]\u001b[A\u001b[A\n",
      "\n",
      " 90%|█████████ | 45/50 [29:54<03:15, 39.11s/it, best loss: 0.028]               \u001b[A\u001b[A\n",
      "\n",
      " 92%|█████████▏| 46/50 [30:19<02:19, 34.77s/it, best loss: 0.028]\u001b[A\u001b[A\n",
      "\n",
      " 94%|█████████▍| 47/50 [30:42<01:34, 31.45s/it, best loss: 0.028]\u001b[A\u001b[A\n",
      "\n",
      " 96%|█████████▌| 48/50 [31:33<01:14, 37.06s/it, best loss: 0.028]\u001b[A\u001b[A\n",
      "\n",
      " 98%|█████████▊| 49/50 [32:22<00:40, 40.79s/it, best loss: 0.028]\u001b[A\u001b[A\n",
      "\n",
      "100%|██████████| 50/50 [33:12<00:00, 39.85s/it, best loss: 0.028]\n",
      "Optimal parameters are: {'alpha': 0.08615853599423179, 'batch_size': 7.0, 'beta': 0.6210946890956773, 'model_to_use': 1}\n"
     ]
    }
   ],
   "source": [
    "rand_algo = rand.suggest\n",
    "rand_trials = Trials()\n",
    "\n",
    "rand_best = fmin(fn=objective_err, space=space, algo=rand_algo, trials=rand_trials, \n",
    "                max_evals=100, rstate= np.random.RandomState(50))\n",
    "\n",
    "print(f\"Optimal parameters are: {rand_best}\")"
   ]
  },
  {
   "cell_type": "code",
   "execution_count": null,
   "metadata": {
    "id": "CU1Ga2aCWwG9"
   },
   "outputs": [],
   "source": [
    "rand_validation_errs = validation_errs.copy()\n",
    "rand_final_validation_errs = final_validation_errs.copy()"
   ]
  },
  {
   "cell_type": "code",
   "execution_count": null,
   "metadata": {
    "colab": {
     "base_uri": "https://localhost:8080/",
     "height": 295
    },
    "id": "HwyBOoXsjIpi",
    "outputId": "79fa7c50-d2eb-4ae6-d243-f99f03e00a5c"
   },
   "outputs": [
    {
     "data": {
      "image/png": "[encoded data removed]",
      "text/plain": [
       "<Figure size 432x288 with 1 Axes>"
      ]
     },
     "metadata": {
      "needs_background": "light",
      "tags": []
     },
     "output_type": "display_data"
    }
   ],
   "source": [
    "best_tpe = rand_trials.best_trial['result']['loss']\n",
    "\n",
    "plt.scatter(range(0,50), [i['loss'] - best_tpe for i in rand_trials.results])\n",
    "plt.ylim(0,0.2)\n",
    "plt.title(\"Distance from optimal Random validation error\")\n",
    "plt.xlabel(\"Epoch\")\n",
    "plt.ylabel(\"Validation error\")\n",
    "plt.show()"
   ]
  },
  {
   "cell_type": "markdown",
   "metadata": {},
   "source": [
    "#### Comparison of Random search and TPE <a class=\"anchor\" id=\"1biii\"></a>"
   ]
  },
  {
   "cell_type": "code",
   "execution_count": 241,
   "metadata": {},
   "outputs": [
    {
     "data": {
      "image/png": "[encoded data removed]",
      "text/plain": [
       "<Figure size 288x216 with 1 Axes>"
      ]
     },
     "metadata": {
      "needs_background": "light"
     },
     "output_type": "display_data"
    }
   ],
   "source": [
    "# Hard-saving data from one (representative) run\n",
    "mnist_tpe_best_validation_errs = [0.04816666666666667, 0.04816666666666667, 0.04616666666666667, 0.04616666666666667, 0.03283333333333333, 0.03283333333333333, 0.03283333333333333, 0.03283333333333333, 0.03283333333333333, 0.03283333333333333, 0.03283333333333333, 0.03283333333333333, 0.03283333333333333, 0.03283333333333333, 0.03283333333333333, 0.03283333333333333, 0.03283333333333333, 0.0325, 0.0325, 0.0325, 0.0325, 0.0325, 0.0325, 0.026166666666666668, 0.026166666666666668, 0.026166666666666668, 0.026166666666666668, 0.026166666666666668, 0.026166666666666668, 0.026166666666666668, 0.026166666666666668, 0.026166666666666668, 0.026166666666666668, 0.026166666666666668, 0.026166666666666668, 0.026166666666666668, 0.026166666666666668, 0.026166666666666668, 0.026166666666666668, 0.026166666666666668, 0.026166666666666668, 0.026166666666666668, 0.026166666666666668, 0.026166666666666668, 0.026166666666666668, 0.026166666666666668, 0.026166666666666668, 0.026166666666666668, 0.026166666666666668, 0.026166666666666668, 0.026166666666666668, 0.026166666666666668, 0.026166666666666668, 0.026166666666666668, 0.026166666666666668, 0.026166666666666668, 0.026166666666666668, 0.026166666666666668, 0.026166666666666668, 0.026166666666666668, 0.026166666666666668, 0.026166666666666668, 0.026166666666666668, 0.026166666666666668, 0.026166666666666668, 0.026166666666666668, 0.026166666666666668, 0.026166666666666668, 0.026166666666666668, 0.026166666666666668, 0.026166666666666668, 0.026166666666666668, 0.026166666666666668, 0.026166666666666668, 0.026166666666666668, 0.026166666666666668, 0.026166666666666668, 0.026166666666666668, 0.026166666666666668, 0.026166666666666668, 0.026166666666666668, 0.026166666666666668, 0.026166666666666668, 0.026166666666666668, 0.026166666666666668, 0.026166666666666668, 0.026166666666666668, 0.026166666666666668, 0.026166666666666668, 0.026166666666666668, 0.026166666666666668, 0.026166666666666668, 0.026166666666666668, 0.026166666666666668, 0.026166666666666668, 0.026166666666666668, 0.026166666666666668, 0.026166666666666668, 0.026166666666666668, 0.026166666666666668]\n",
    "mnist_rand_best_validation_errs = [0.03666666666666667,0.03666666666666667,0.03666666666666667,0.03666666666666667,0.03666666666666667,0.0315,0.0315,0.0315,0.0315,0.0315,0.0315,0.0315,0.0315,0.0315,0.030166666666666668,0.030166666666666668,0.030166666666666668,0.030166666666666668,0.030166666666666668,0.030166666666666668,0.030166666666666668,0.030166666666666668,0.030166666666666668,0.030166666666666668,0.030166666666666668,0.030166666666666668,0.030166666666666668,0.030166666666666668,0.030166666666666668,0.030166666666666668,0.030166666666666668,0.030166666666666668,0.030166666666666668,0.030166666666666668,0.027,0.027,0.027,0.027,0.027,0.027,0.027,0.027,0.027,0.027,0.027,0.027,0.027,0.027,0.027,0.027,0.027,0.027,0.027,0.027,0.027,0.027,0.027,0.027,0.027,0.027,0.027,0.027,0.027,0.027,0.027,0.027,0.027,0.027,0.027,0.027,0.027,0.027,0.027,0.027,0.027,0.027,0.027,0.027,0.027,0.027,0.027,0.027,0.027,0.027,0.027,0.027,0.027,0.027,0.027,0.027,0.027,0.027,0.027,0.027,0.027,0.027,0.027,0.027,0.027,0.027]\n",
    "\n",
    "fig = plt.figure(figsize=(4, 3))\n",
    "ax = fig.add_axes([0, 0, 1, 1])\n",
    "\n",
    "plt.plot(mnist_rand_best_validation_errs, linewidth=5, label=\"Random search\", color='#008800')\n",
    "plt.plot(mnist_tpe_best_validation_errs, linewidth=5, label=\"Tree-Parzen estimator\", color='#0000FF')\n",
    "plt.title(\"Minimum validation error per epoch, Strong CNN\", pad=20)\n",
    "plt.ylabel(\"Minimum validation error\")\n",
    "plt.xlabel(\"Epoch\")\n",
    "plt.xlim(0,100)\n",
    "plt.ylim(0,0.05)\n",
    "\n",
    "ax.legend(bbox_to_anchor=(1, 1), loc=1, frameon=False, fontsize=12)\n",
    "\n",
    "ax.xaxis.set_tick_params(which='major', size=10, width=2, direction='in', top='on')\n",
    "ax.xaxis.set_tick_params(which='minor', size=7, width=2, direction='in', top='on')\n",
    "ax.yaxis.set_tick_params(which='major', size=10, width=2, direction='in', right='on')\n",
    "ax.yaxis.set_tick_params(which='minor', size=7, width=2, direction='in', right='on')\n",
    "\n",
    "ax.xaxis.set_major_locator(mpl.ticker.MultipleLocator(20))\n",
    "ax.xaxis.set_minor_locator(mpl.ticker.MultipleLocator(10))\n",
    "ax.yaxis.set_major_locator(mpl.ticker.MultipleLocator(0.01))\n",
    "ax.yaxis.set_minor_locator(mpl.ticker.MultipleLocator(0.005))\n",
    "\n",
    "ax.get_yaxis().set_major_formatter(mpl.ticker.FuncFormatter(lambda x, p: str(round(100*float(x), 1)) + \"%\"))\n",
    "\n",
    "plt.show()"
   ]
  },
  {
   "cell_type": "code",
   "execution_count": 94,
   "metadata": {},
   "outputs": [],
   "source": [
    "mnist_rand_min_loss = min(mnist_rand_best_validation_errs)\n",
    "mnist_tpe_min_loss = min(mnist_tpe_best_validation_errs)"
   ]
  },
  {
   "cell_type": "code",
   "execution_count": 95,
   "metadata": {},
   "outputs": [],
   "source": [
    "acceptable_loss_mnist_rand = [(loss - mnist_rand_min_loss) / mnist_rand_min_loss for loss in mnist_rand_best_validation_errs]\n",
    "acceptable_loss_mnist_tpe = [(loss - mnist_tpe_min_loss) / mnist_tpe_min_loss for loss in mnist_tpe_best_validation_errs]"
   ]
  },
  {
   "cell_type": "markdown",
   "metadata": {
    "id": "8pvyu85EiOm8"
   },
   "source": [
    "## c. Weak Neural Net (with CIFAR-10) <a class=\"anchor\" id=\"1c\"></a>"
   ]
  },
  {
   "cell_type": "code",
   "execution_count": null,
   "metadata": {
    "colab": {
     "base_uri": "https://localhost:8080/"
    },
    "id": "nHziQprJo1-k",
    "outputId": "8c713fd5-666d-4b53-e0b4-ca2e5637c38a"
   },
   "outputs": [
    {
     "name": "stdout",
     "output_type": "stream",
     "text": [
      "Files already downloaded and verified\n"
     ]
    }
   ],
   "source": [
    "# Set up model\n",
    "class Flatten(nn.Module):\n",
    "    def forward(self, input):\n",
    "        return input.view(input.size(0), -1)\n",
    "\n",
    "transform = torchvision.transforms.ToTensor()\n",
    "cifar_train = torchvision.datasets.CIFAR10(root='.', train=True, transform=transform, download=True)\n",
    "\n",
    "cifar_train, cifar_val = torch.utils.data.random_split(cifar_train, (int(0.9*len(cifar_train)), int(0.1*len(cifar_train))))\n",
    "\n",
    "class SimpleCIFARModel(nn.Module):\n",
    "    def __init__(self):\n",
    "        super(SimpleCIFARModel, self).__init__()\n",
    "\n",
    "        self.linears = nn.Sequential(\n",
    "            nn.Linear(3*32*32, 512),\n",
    "            nn.PReLU(),\n",
    "            nn.Linear(512, 256),\n",
    "            nn.PReLU(),\n",
    "            nn.Linear(256, 128),\n",
    "            nn.PReLU(),\n",
    "            nn.Linear(128, 64),\n",
    "            nn.PReLU(),\n",
    "            nn.Linear(64, 10)\n",
    "        )\n",
    "\n",
    "\n",
    "    def forward(self, x):     \n",
    "        x = x.view(x.size(0), -1)\n",
    "        x = self.linears(x)\n",
    "\n",
    "        return x"
   ]
  },
  {
   "cell_type": "code",
   "execution_count": null,
   "metadata": {
    "id": "7wAhd9p3jFG8"
   },
   "outputs": [],
   "source": [
    "def run_cifar_model(batch_size=32, alpha=0.001, beta=0.99, num_epochs=5):\n",
    "    train_loader = torch.utils.data.DataLoader(mnist_train, batch_size=batch_size)\n",
    "    val_loader = torch.utils.data.DataLoader(cifar_val, batch_size=batch_size)\n",
    "    \n",
    "    model = SimpleCIFARModel()\n",
    "        \n",
    "    optimizer = torch.optim.SGD(model.parameters(), lr=alpha, momentum=beta)\n",
    "    loss = torch.nn.CrossEntropyLoss()\n",
    "    \n",
    "    val_errors   = []\n",
    "    \n",
    "    val_error = 0\n",
    "    for X, y in val_loader:\n",
    "        val_error += sum([torch.argmax(preds) for preds in model(X)] != y.numpy())\n",
    "\n",
    "    val_error /= len(mnist_val)\n",
    "    val_errors.append(val_error)\n",
    "    # print(f\"val error in start: {val_error}\")\n",
    "\n",
    "    def train():\n",
    "        for X, y in train_loader:\n",
    "            optimizer.zero_grad()\n",
    "            output = model(X)\n",
    "            \n",
    "            tloss = loss(output, y)\n",
    "            tloss.backward()    \n",
    "            optimizer.step()\n",
    "            \n",
    "    for epoch in range(num_epochs):\n",
    "        train()\n",
    "        \n",
    "        val_error = 0\n",
    "        for X, y in val_loader:\n",
    "            val_error += sum([torch.argmax(preds) for preds in model(X)] != y.numpy())\n",
    "\n",
    "        val_error /= len(mnist_val)\n",
    "        val_errors.append(val_error)\n",
    "        \n",
    "    return val_errors"
   ]
  },
  {
   "cell_type": "code",
   "execution_count": null,
   "metadata": {
    "id": "SEYswOqVjl5v"
   },
   "outputs": [],
   "source": [
    "cifar_final_validation_errs = []\n",
    "cifar_validation_errs = []\n",
    "\n",
    "def cifar_objective_err(params):\n",
    "    params['batch_size'] = int(2**params['batch_size'])\n",
    "    \n",
    "    val_errs = run_cifar_model(batch_size=params['batch_size'], \n",
    "                         alpha=params['alpha'],\n",
    "                         beta=params['beta'])\n",
    "\n",
    "    global cifar_validation_errs\n",
    "    global cifar_final_validation_errs\n",
    "\n",
    "    cifar_validation_errs.append(val_errs)\n",
    "    cifar_final_validation_errs.append(val_errs[-1])    \n",
    "\n",
    "    return val_errs[-1]\n",
    "    \n",
    "cifar_space = {\n",
    "    'batch_size': hp.quniform('batch_size', 4, 7, 1),\n",
    "    'alpha': hp.uniform('alpha', 0.00001, 0.1),\n",
    "    'beta': hp.uniform('beta', 0, 1)\n",
    "}"
   ]
  },
  {
   "cell_type": "markdown",
   "metadata": {
    "id": "BxDcKDEnj-4U"
   },
   "source": [
    "#### TPE <a class=\"anchor\" id=\"1ci\"></a>"
   ]
  },
  {
   "cell_type": "code",
   "execution_count": null,
   "metadata": {
    "colab": {
     "base_uri": "https://localhost:8080/"
    },
    "id": "-oNiD2E2j65Y",
    "outputId": "dec8df97-4717-488e-9415-a5f6d1f87f87"
   },
   "outputs": [
    {
     "name": "stdout",
     "output_type": "stream",
     "text": [
      "100%|██████████| 100/100 [23:44<00:00, 14.24s/it, best loss: 0.5483333333333333]\n",
      "Optimal parameters are: {'alpha': 0.053621102064726076, 'batch_size': 4.0, 'beta': 0.4044283759625307}\n"
     ]
    }
   ],
   "source": [
    "cifar_tpe_algo = tpe.suggest\n",
    "cifar_tpe_trials = Trials()\n",
    "\n",
    "cifar_tpe_best = fmin(fn=cifar_objective_err, space=cifar_space, algo=cifar_tpe_algo, trials=cifar_tpe_trials, \n",
    "                max_evals=100, rstate= np.random.RandomState(50))\n",
    "\n",
    "print(f\"Optimal parameters are: {cifar_tpe_best}\")"
   ]
  },
  {
   "cell_type": "code",
   "execution_count": null,
   "metadata": {
    "id": "QXG2T4rEkIs4"
   },
   "outputs": [],
   "source": [
    "cifar_tpe_validation_errs = validation_errs.copy()\n",
    "cifar_tpe_final_validation_errs = final_validation_errs.copy()"
   ]
  },
  {
   "cell_type": "code",
   "execution_count": null,
   "metadata": {
    "colab": {
     "base_uri": "https://localhost:8080/",
     "height": 1000
    },
    "id": "SFQbKbXfpFBH",
    "outputId": "11758dc8-b250-4e6f-b149-af6b3703f81d"
   },
   "outputs": [
    {
     "data": {
      "image/png": "[encoded data removed]",
      "text/plain": [
       "<Figure size 432x288 with 1 Axes>"
      ]
     },
     "metadata": {
      "needs_background": "light",
      "tags": []
     },
     "output_type": "display_data"
    },
    {
     "data": {
      "image/png": "[encoded data removed]",
      "text/plain": [
       "<Figure size 576x432 with 1 Axes>"
      ]
     },
     "metadata": {
      "needs_background": "light",
      "tags": []
     },
     "output_type": "display_data"
    },
    {
     "data": {
      "image/png": "[encoded data removed]",
      "text/plain": [
       "<Figure size 576x432 with 1 Axes>"
      ]
     },
     "metadata": {
      "needs_background": "light",
      "tags": []
     },
     "output_type": "display_data"
    },
    {
     "data": {
      "image/png": "[encoded data removed]",
      "text/plain": [
       "<Figure size 576x432 with 1 Axes>"
      ]
     },
     "metadata": {
      "needs_background": "light",
      "tags": []
     },
     "output_type": "display_data"
    }
   ],
   "source": [
    "plt.plot(cifar_tpe_final_validation_errs)\n",
    "plt.xlabel(\"Iteration\")\n",
    "plt.ylabel(\"Validation error\")\n",
    "\n",
    "ranges = {\n",
    "    'batch_size': (4, 7),\n",
    "    'alpha': (0.00001, 0.1),\n",
    "    'beta': (0,1)\n",
    "\n",
    "}\n",
    "for k,v in cifar_tpe_trials.idxs_vals[1].items():\n",
    "    plt.figure(figsize = (8, 6))\n",
    "    plt.hist(v, bins = 50, edgecolor = 'k', range=ranges[k])\n",
    "    plt.title(f'{k} values tried'); plt.xlabel(f'Value of {k}'); plt.ylabel('Count');"
   ]
  },
  {
   "cell_type": "code",
   "execution_count": null,
   "metadata": {
    "colab": {
     "base_uri": "https://localhost:8080/",
     "height": 295
    },
    "id": "RxZUxfO2pN2B",
    "outputId": "829c8d28-2a0a-4668-8d59-bb48268b05c3"
   },
   "outputs": [
    {
     "data": {
      "image/png": "[encoded data removed]",
      "text/plain": [
       "<Figure size 432x288 with 1 Axes>"
      ]
     },
     "metadata": {
      "needs_background": "light",
      "tags": []
     },
     "output_type": "display_data"
    }
   ],
   "source": [
    "best_tpe = cifar_tpe_trials.best_trial['result']['loss']\n",
    "\n",
    "plt.scatter(range(0,50), [i['loss'] - best_tpe for i in cifar_tpe_trials.results])\n",
    "plt.ylim(0,0.2)\n",
    "plt.title(\"Distance from optimal TPE validation error\")\n",
    "plt.xlabel(\"Epoch\")\n",
    "plt.ylabel(\"Validation error\")\n",
    "plt.show()"
   ]
  },
  {
   "cell_type": "markdown",
   "metadata": {},
   "source": [
    "#### Random search <a class=\"anchor\" id=\"1cii\"></a>"
   ]
  },
  {
   "cell_type": "code",
   "execution_count": null,
   "metadata": {
    "colab": {
     "base_uri": "https://localhost:8080/"
    },
    "id": "8AW-JFY9pmaj",
    "outputId": "e5a5b224-6d29-423f-ed04-b114e46ebc73"
   },
   "outputs": [
    {
     "name": "stdout",
     "output_type": "stream",
     "text": [
      "100%|██████████| 50/50 [14:16<00:00, 17.12s/it, best loss: 0.5646666666666667]\n",
      "Optimal parameters are: {'alpha': 0.053942918857283736, 'batch_size': 5.0, 'beta': 0.6627955953714144}\n"
     ]
    }
   ],
   "source": [
    "cifar_rand_algo = rand.suggest\n",
    "cifar_rand_trials = Trials()\n",
    "\n",
    "cifar_rand_best = fmin(fn=cifar_objective_err, space=cifar_space, algo=cifar_rand_algo, trials=cifar_rand_trials, \n",
    "                max_evals=50, rstate= np.random.RandomState(50))\n",
    "\n",
    "print(f\"Optimal parameters are: {cifar_rand_best}\")"
   ]
  },
  {
   "cell_type": "code",
   "execution_count": null,
   "metadata": {
    "id": "Ya3xJ6M4p9cd"
   },
   "outputs": [],
   "source": [
    "cifar_rand_validation_errs = validation_errs.copy()\n",
    "cifar_rand_final_validation_errs = final_validation_errs.copy()"
   ]
  },
  {
   "cell_type": "code",
   "execution_count": null,
   "metadata": {
    "colab": {
     "base_uri": "https://localhost:8080/",
     "height": 1000
    },
    "id": "83njt4F2vhzt",
    "outputId": "29ca3652-8ffa-4a39-d637-3d3f9c212461"
   },
   "outputs": [
    {
     "data": {
      "image/png": "[encoded data removed]",
      "text/plain": [
       "<Figure size 432x288 with 1 Axes>"
      ]
     },
     "metadata": {
      "needs_background": "light",
      "tags": []
     },
     "output_type": "display_data"
    },
    {
     "data": {
      "image/png": "[encoded data removed]",
      "text/plain": [
       "<Figure size 576x432 with 1 Axes>"
      ]
     },
     "metadata": {
      "needs_background": "light",
      "tags": []
     },
     "output_type": "display_data"
    },
    {
     "data": {
      "image/png": "[encoded data removed]",
      "text/plain": [
       "<Figure size 576x432 with 1 Axes>"
      ]
     },
     "metadata": {
      "needs_background": "light",
      "tags": []
     },
     "output_type": "display_data"
    },
    {
     "data": {
      "image/png": "[encoded data removed]",
      "text/plain": [
       "<Figure size 576x432 with 1 Axes>"
      ]
     },
     "metadata": {
      "needs_background": "light",
      "tags": []
     },
     "output_type": "display_data"
    }
   ],
   "source": [
    "plt.plot(cifar_rand_final_validation_errs)\n",
    "plt.xlabel(\"Iteration\")\n",
    "plt.ylabel(\"Validation error\")\n",
    "\n",
    "ranges = {\n",
    "    'batch_size': (4, 7),\n",
    "    'alpha': (0.00001, 0.1),\n",
    "    'beta': (0,1)\n",
    "\n",
    "}\n",
    "for k,v in cifar_rand_trials.idxs_vals[1].items():\n",
    "    plt.figure(figsize = (8, 6))\n",
    "    plt.hist(v, bins = 50, edgecolor = 'k', range=ranges[k])\n",
    "    plt.title(f'{k} values tried'); plt.xlabel(f'Value of {k}'); plt.ylabel('Count');"
   ]
  },
  {
   "cell_type": "code",
   "execution_count": null,
   "metadata": {
    "colab": {
     "base_uri": "https://localhost:8080/",
     "height": 295
    },
    "id": "ViJoYDGlvmsg",
    "outputId": "e3b3e3df-a117-4924-b53c-cbe383ee1a4c"
   },
   "outputs": [
    {
     "data": {
      "image/png": "[encoded data removed]",
      "text/plain": [
       "<Figure size 432x288 with 1 Axes>"
      ]
     },
     "metadata": {
      "needs_background": "light",
      "tags": []
     },
     "output_type": "display_data"
    }
   ],
   "source": [
    "best_tpe = cifar_rand_trials.best_trial['result']['loss']\n",
    "\n",
    "plt.scatter(range(0,50), [i['loss'] - best_tpe for i in cifar_rand_trials.results])\n",
    "plt.ylim(0,0.2)\n",
    "plt.title(\"Distance from optimal random validation error\")\n",
    "plt.xlabel(\"Epoch\")\n",
    "plt.ylabel(\"Validation error\")\n",
    "plt.show()"
   ]
  },
  {
   "cell_type": "markdown",
   "metadata": {},
   "source": [
    "#### Comparison of Random search and TPE <a class=\"anchor\" id=\"1ciii\"></a>"
   ]
  },
  {
   "cell_type": "code",
   "execution_count": 114,
   "metadata": {},
   "outputs": [],
   "source": [
    "# Hard-saving data from one (representative) run\n",
    "cifar_tpe_validation_errs = [0.7513333333333333,0.5838333333333333,0.64,0.5656666666666667,0.7416666666666667,0.6336666666666667,0.5881666666666666,0.6496666666666666,0.5775,0.5788333333333333,0.6746666666666666,0.6026666666666667,0.6091666666666666,0.6601666666666667,0.6271666666666667,0.7556666666666667,0.6836666666666666,0.6565,0.7556666666666667,0.7513333333333333,0.5961666666666666,0.5761666666666667,0.5665,0.75,0.6453333333333333,0.572,0.6076666666666667,0.6061666666666666,0.7513333333333333,0.5555,0.6346666666666667,0.6388333333333334,0.7203333333333334,0.6766666666666666,0.59,0.7513333333333333,0.5828333333333333,0.6433333333333333,0.548,0.6948333333333333,0.687,0.6915,0.552,0.6241666666666666,0.6951666666666667,0.7106666666666667,0.5605,0.627,0.625,0.5875,0.6301666666666667,0.6448333333333334,0.6043333333333333,0.5691666666666667,0.7253333333333334,0.5823333333333334,0.6791666666666667,0.677,0.6166666666666667,0.5968333333333333,0.5946666666666667,0.6435,0.6063333333333333,0.618,0.5958333333333333,0.5795,0.6606666666666666,0.7115,0.5776666666666667,0.6335,0.6216666666666667,0.6485,0.67,0.645,0.6715,0.7355,0.6818333333333333,0.5966666666666667,0.5828333333333333,0.6423333333333333,0.6168333333333333,0.7513333333333333,0.6181666666666666,0.7473333333333333,0.616,0.7108333333333333,0.6123333333333333,0.66,0.6128333333333333,0.5625,0.595,0.6968333333333333,0.655,0.67,0.6966666666666667,0.5951666666666666,0.6958333333333333,0.6801666666666667,0.6945,0.584]\n",
    "cifar_tpe_best_validation_errs = [min(cifar_tpe_validation_errs[:(i+1)]) for i in range(len(cifar_tpe_validation_errs))]"
   ]
  },
  {
   "cell_type": "code",
   "execution_count": 115,
   "metadata": {},
   "outputs": [],
   "source": [
    "cifar_rand_validation_errs = [0.7451666666666666,0.6166666666666667,0.6105,0.7451666666666666,0.592,0.5928333333333333,0.5946666666666667,0.7528333333333334,0.6708333333333333,0.6048333333333333,0.7138333333333333,0.5818333333333333,0.6235,0.6676666666666666,0.6103333333333333,0.5801666666666667,0.6226666666666667,0.6551666666666667,0.7451666666666666,0.686,0.6743333333333333,0.7451666666666666,0.7451666666666666,0.5671666666666667,0.569,0.5961666666666666,0.604,0.567,0.6453333333333333,0.5893333333333334,0.6373333333333333,0.559,0.6353333333333333,0.5611666666666667,0.5948333333333333,0.5721666666666667,0.572,0.5753333333333334,0.6703333333333333,0.5805,0.618,0.566,0.668,0.6536666666666666,0.5818333333333333,0.61,0.6138333333333333,0.69,0.5975,0.5808333333333333,0.6023333333333334,0.6508333333333334,0.7193333333333334,0.6068333333333333,0.5828333333333333,0.6881666666666667,0.5568333333333333,0.6078333333333333,0.606,0.6861666666666667,0.5773333333333334,0.5651666666666667,0.5868333333333333,0.5815,0.556,0.5731666666666667,0.7451666666666666,0.5483333333333333,0.6078333333333333,0.575,0.569,0.5781666666666667,0.5768333333333333,0.6153333333333333,0.5576666666666666,0.6106666666666667,0.6298333333333334,0.5543333333333333,0.5876666666666667,0.7156666666666667,0.5978333333333333,0.5611666666666667,0.6043333333333333,0.5836666666666667,0.597,0.5758333333333333,0.5648333333333333,0.6083333333333333,0.7451666666666666,0.59,0.6061666666666666,0.5983333333333334,0.6161666666666666,0.644,0.7143333333333334,0.5566666666666666,0.6026666666666667,0.563,0.5661666666666667,0.6171666666666666,0.5665,0.5766666666666667,0.6006666666666667]\n",
    "cifar_rand_best_validation_errs = [min(cifar_rand_validation_errs[:(i+1)]) for i in range(len(cifar_rand_validation_errs))]"
   ]
  },
  {
   "cell_type": "code",
   "execution_count": 242,
   "metadata": {},
   "outputs": [
    {
     "data": {
      "image/png": "[encoded data removed]",
      "text/plain": [
       "<Figure size 288x216 with 1 Axes>"
      ]
     },
     "metadata": {
      "needs_background": "light"
     },
     "output_type": "display_data"
    }
   ],
   "source": [
    "# Hard-saving data from one (representative) run\n",
    "cifar_rand_best_validation_errs = [0.7451666666666666,0.6166666666666667,0.6105,0.6105,0.592,0.592,0.592,0.592,0.592,0.592,0.592,0.5818333333333333,0.5818333333333333,0.5818333333333333,0.5818333333333333,0.5801666666666667,0.5801666666666667,0.5801666666666667,0.5801666666666667,0.5801666666666667,0.5801666666666667,0.5801666666666667,0.5801666666666667,0.5671666666666667,0.5671666666666667,0.5671666666666667,0.5671666666666667,0.567,0.567,0.567,0.567,0.559,0.559,0.559,0.559,0.559,0.559,0.559,0.559,0.559,0.559,0.559,0.559,0.559,0.559,0.559,0.559,0.559,0.559,0.559,0.559,0.559,0.559,0.559,0.559,0.559,0.5568333333333333,0.5568333333333333,0.5568333333333333,0.5568333333333333,0.5568333333333333,0.5568333333333333,0.5568333333333333,0.5568333333333333,0.556,0.556,0.556,0.5483333333333333,0.5483333333333333,0.5483333333333333,0.5483333333333333,0.5483333333333333,0.5483333333333333,0.5483333333333333,0.5483333333333333,0.5483333333333333,0.5483333333333333,0.5483333333333333,0.5483333333333333,0.5483333333333333,0.5483333333333333,0.5483333333333333,0.5483333333333333,0.5483333333333333,0.5483333333333333,0.5483333333333333,0.5483333333333333,0.5483333333333333,0.5483333333333333,0.5483333333333333,0.5483333333333333,0.5483333333333333,0.5483333333333333,0.5483333333333333,0.5483333333333333,0.5483333333333333,0.5483333333333333,0.5483333333333333,0.5483333333333333,0.5483333333333333,0.5483333333333333,0.5483333333333333,0.5483333333333333]\n",
    "cifar_tpe_best_validation_errs = [0.7513333333333333,0.5838333333333333,0.5838333333333333,0.5656666666666667,0.5656666666666667,0.5656666666666667,0.5656666666666667,0.5656666666666667,0.5656666666666667,0.5656666666666667,0.5656666666666667,0.5656666666666667,0.5656666666666667,0.5656666666666667,0.5656666666666667,0.5656666666666667,0.5656666666666667,0.5656666666666667,0.5656666666666667,0.5656666666666667,0.5656666666666667,0.5656666666666667,0.5656666666666667,0.5656666666666667,0.5656666666666667,0.5656666666666667,0.5656666666666667,0.5656666666666667,0.5656666666666667,0.5555,0.5555,0.5555,0.5555,0.5555,0.5555,0.5555,0.5555,0.5555,0.548,0.548,0.548,0.548,0.548,0.548,0.548,0.548,0.548,0.548,0.548,0.548,0.548,0.548,0.548,0.548,0.548,0.548,0.548,0.548,0.548,0.548,0.548,0.548,0.548,0.548,0.548,0.548,0.548,0.548,0.548,0.548,0.548,0.548,0.548,0.548,0.548,0.548,0.548,0.548,0.548,0.548,0.548,0.548,0.548,0.548,0.548,0.548,0.548,0.548,0.548,0.548,0.548,0.548,0.548,0.548,0.548,0.548,0.548,0.548,0.548,0.548]\n",
    "\n",
    "fig = plt.figure(figsize=(4, 3))\n",
    "ax = fig.add_axes([0, 0, 1, 1])\n",
    "\n",
    "plt.plot(cifar_rand_best_validation_errs, linewidth=5, label=\"Random search\", color='#008800')\n",
    "plt.plot(cifar_tpe_best_validation_errs, linewidth=5, label=\"Tree-Parzen estimator\", color='#0000FF')\n",
    "plt.title(\"Minimum validation error per epoch, Weak CNN\", pad=20)\n",
    "plt.ylabel(\"Minimum validation error\")\n",
    "plt.xlabel(\"Epoch\")\n",
    "plt.xlim(0,100)\n",
    "plt.ylim(0,0.8)\n",
    "\n",
    "ax.legend(bbox_to_anchor=(1, 1), loc=1, frameon=False, fontsize=12)\n",
    "\n",
    "ax.xaxis.set_tick_params(which='major', size=10, width=2, direction='in', top='on')\n",
    "ax.xaxis.set_tick_params(which='minor', size=7, width=2, direction='in', top='on')\n",
    "ax.yaxis.set_tick_params(which='major', size=10, width=2, direction='in', right='on')\n",
    "ax.yaxis.set_tick_params(which='minor', size=7, width=2, direction='in', right='on')\n",
    "\n",
    "ax.xaxis.set_major_locator(mpl.ticker.MultipleLocator(20))\n",
    "ax.xaxis.set_minor_locator(mpl.ticker.MultipleLocator(10))\n",
    "ax.yaxis.set_major_locator(mpl.ticker.MultipleLocator(0.2))\n",
    "ax.yaxis.set_minor_locator(mpl.ticker.MultipleLocator(0.1))\n",
    "\n",
    "ax.get_yaxis().set_major_formatter(mpl.ticker.FuncFormatter(lambda x, p: str(round(100*float(x), 1)) + \"%\"))\n",
    "\n",
    "plt.show()"
   ]
  },
  {
   "cell_type": "code",
   "execution_count": 118,
   "metadata": {},
   "outputs": [],
   "source": [
    "cifar_rand_min_loss = min(cifar_rand_best_validation_errs)\n",
    "cifar_tpe_min_loss = min(cifar_tpe_best_validation_errs)"
   ]
  },
  {
   "cell_type": "code",
   "execution_count": 119,
   "metadata": {},
   "outputs": [],
   "source": [
    "acceptable_loss_cifar_rand = [(loss - cifar_rand_min_loss) / cifar_rand_min_loss for loss in cifar_rand_best_validation_errs]\n",
    "acceptable_loss_cifar_tpe = [(loss - cifar_tpe_min_loss) / cifar_tpe_min_loss for loss in cifar_tpe_best_validation_errs]"
   ]
  },
  {
   "cell_type": "markdown",
   "metadata": {
    "id": "7U6SDuEDZURV"
   },
   "source": [
    "# Part II: Early stopping implementation <a class=\"anchor\" id=\"2\"></a>"
   ]
  },
  {
   "cell_type": "markdown",
   "metadata": {
    "id": "HBaTbni1aHlo"
   },
   "source": [
    "## a. OLS <a class=\"anchor\" id=\"2a\"></a>"
   ]
  },
  {
   "cell_type": "code",
   "execution_count": 139,
   "metadata": {
    "id": "JxI2oGDXat5D"
   },
   "outputs": [],
   "source": [
    "# Generate random training data for an OLS problem with random parameters\n",
    "ols_x = np.random.randint(-10, 10, size=500)\n",
    "ols_y = np.random.randint(0,50)*ols_x + np.random.randint(0,50)\n",
    "\n",
    "def early_stop_ols(params):\n",
    "    beta0 = params['beta0']\n",
    "    beta1 = params['beta1']\n",
    "\n",
    "    global stopped\n",
    "    global losses\n",
    "\n",
    "    if stopped:\n",
    "        return losses[-1]\n",
    "    else:\n",
    "        global max_epochs\n",
    "        global min_loss\n",
    "        global min_loss_idx\n",
    "        \n",
    "        loss = sum((ols_y - beta0 - beta1*ols_x)**2)\n",
    "\n",
    "        if loss < min_loss or len(losses) == 0:\n",
    "            min_loss = loss\n",
    "            min_loss_idx = len(losses)+1\n",
    "\n",
    "        losses.append(loss)\n",
    "\n",
    "        if len(losses) > max_epochs // 5 and min_loss_idx < len(losses) - max_epochs//10:\n",
    "            # we're past 20% mark, and new min hasn't been found in the last 10% of epochs\n",
    "            stopped = True\n",
    "            print(f\"Stopped at iteration {len(losses)}\")\n",
    "        return loss"
   ]
  },
  {
   "cell_type": "code",
   "execution_count": 140,
   "metadata": {},
   "outputs": [],
   "source": [
    "space = {\n",
    "    'beta0': hp.uniform('beta0', -100, 100),\n",
    "    'beta1': hp.uniform('beta1', -100, 100)\n",
    "}"
   ]
  },
  {
   "cell_type": "code",
   "execution_count": 155,
   "metadata": {
    "colab": {
     "base_uri": "https://localhost:8080/"
    },
    "id": "l65QCheebUak",
    "outputId": "8ea10420-7de0-4c07-a221-8ce0fc9f0c77"
   },
   "outputs": [
    {
     "name": "stdout",
     "output_type": "stream",
     "text": [
      "Stopped at iteration 461                                                                                               \n",
      "100%|█████████████████████████████████████████████| 2000/2000 [00:26<00:00, 74.47trial/s, best loss: 3270.265359489748]\n"
     ]
    },
    {
     "data": {
      "text/plain": [
       "{'beta0': 40.93802216313417, 'beta1': 8.237420771722261}"
      ]
     },
     "execution_count": 155,
     "metadata": {},
     "output_type": "execute_result"
    }
   ],
   "source": [
    "losses = []\n",
    "stopped = False\n",
    "max_epochs = 2000\n",
    "min_loss = -1\n",
    "min_loss_idx = -1\n",
    "\n",
    "tpe_algo = tpe.suggest\n",
    "tpe_trials = Trials()\n",
    "tpe_best = fmin(fn=early_stop_ols, space=space, algo=tpe_algo, trials=tpe_trials, \n",
    "                max_evals=max_epochs, rstate= np.random.RandomState(50))\n",
    "\n",
    "tpe_best"
   ]
  },
  {
   "cell_type": "code",
   "execution_count": 160,
   "metadata": {},
   "outputs": [],
   "source": [
    "# execute original OLS, for comparison\n",
    "tpe_trials_orig = Trials()\n",
    "tpe_best_orig = fmin(fn=tpe_ols, space=space, algo=tpe_algo, trials=tpe_trials_orig, \n",
    "                max_evals=max_epochs, rstate= np.random.RandomState(50))"
   ]
  },
  {
   "cell_type": "code",
   "execution_count": 175,
   "metadata": {},
   "outputs": [],
   "source": [
    "loss_per_epoch_ols_orig = [i['loss'] for i in tpe_trials_orig.results]\n",
    "best_per_epoch_ols_orig = [min(loss_per_epoch_ols_orig[:(i+1)]) for i in range(len(loss_per_epoch_ols_orig))]"
   ]
  },
  {
   "cell_type": "code",
   "execution_count": 164,
   "metadata": {},
   "outputs": [],
   "source": [
    "loss_per_epoch_ols = [i['loss'] for i in tpe_trials.results]\n",
    "best_per_epoch_ols = [min(loss_per_epoch_ols[:(i+1)]) for i in range(len(loss_per_epoch_ols))]"
   ]
  },
  {
   "cell_type": "code",
   "execution_count": 247,
   "metadata": {},
   "outputs": [
    {
     "data": {
      "image/png": "[encoded data removed]",
      "text/plain": [
       "<Figure size 288x216 with 1 Axes>"
      ]
     },
     "metadata": {
      "needs_background": "light"
     },
     "output_type": "display_data"
    }
   ],
   "source": [
    "lowest_loss_epoch = np.argmin(best_per_epoch_ols_orig)\n",
    "lowest_loss = np.min(best_per_epoch_ols_orig)\n",
    "\n",
    "fig = plt.figure(figsize=(4, 3))\n",
    "ax = fig.add_axes([0, 0, 1, 1])\n",
    "\n",
    "# Evaluation\n",
    "plt.plot(best_per_epoch_ols_orig, linewidth=5, color='#0000FF')\n",
    "plt.vlines(461, ymin=0, ymax=100_000, colors=['red'], linewidth=2)\n",
    "plt.plot(lowest_loss_epoch, lowest_loss,'ro', color='#0000FF', markersize=10) \n",
    "plt.xlim(0,2000)\n",
    "plt.ylim(0,100_000)\n",
    "plt.title(\"Lowest loss per epoch using TPE, OLS\", pad=20)\n",
    "plt.xlabel(\"Epoch\")\n",
    "plt.ylabel(\"Loss\")\n",
    "plt.text(500, 80000, \"Algorithm terminates\\n(epoch 461)\", fontsize=12)\n",
    "plt.text(lowest_loss_epoch, 5000, \"Lowest loss\", horizontalalignment=\"left\", fontsize=12)\n",
    "\n",
    "ax.xaxis.set_tick_params(which='major', size=10, width=2, direction='in', top='on')\n",
    "ax.xaxis.set_tick_params(which='minor', size=7, width=2, direction='in', top='on')\n",
    "ax.yaxis.set_tick_params(which='major', size=10, width=2, direction='in', right='on')\n",
    "ax.yaxis.set_tick_params(which='minor', size=7, width=2, direction='in', right='on')\n",
    "\n",
    "ax.xaxis.set_major_locator(mpl.ticker.MultipleLocator(500))\n",
    "ax.xaxis.set_minor_locator(mpl.ticker.MultipleLocator(250))\n",
    "ax.yaxis.set_major_locator(mpl.ticker.MultipleLocator(20_000))\n",
    "ax.yaxis.set_minor_locator(mpl.ticker.MultipleLocator(10_000))\n",
    "\n",
    "plt.show()"
   ]
  },
  {
   "cell_type": "markdown",
   "metadata": {
    "id": "nflkKGxRjSlM"
   },
   "source": [
    "## b. Strong Neural Net (with MNIST) <a class=\"anchor\" id=\"2b\"></a>"
   ]
  },
  {
   "cell_type": "code",
   "execution_count": null,
   "metadata": {
    "id": "9pMfac55jOWz"
   },
   "outputs": [],
   "source": [
    "def early_stop_objective_err(params):\n",
    "    params['batch_size'] = int(2**params['batch_size'])\n",
    "    \n",
    "    global stopped\n",
    "    global losses\n",
    "\n",
    "    if stopped:\n",
    "        return losses[-1]\n",
    "    else:\n",
    "        global max_epochs\n",
    "        global min_loss\n",
    "        global min_loss_idx\n",
    "        \n",
    "        val_errs = run_model(batch_size=params['batch_size'], \n",
    "                            alpha=params['alpha'],\n",
    "                            beta=params['beta'],\n",
    "                            model_to_use=params['model_to_use'])\n",
    "        \n",
    "        loss = val_errs[-1]  \n",
    "\n",
    "        if loss < min_loss or len(losses) == 0:\n",
    "            min_loss = loss\n",
    "            min_loss_idx = len(losses)+1\n",
    "\n",
    "        losses.append(loss)\n",
    "\n",
    "        if len(losses) > max_epochs // 5 and min_loss_idx < len(losses) - max_epochs//10:\n",
    "            # we're past 20% mark, and new min hasn't been found in the last 10% of epochs\n",
    "            stopped = True\n",
    "            print(f\"Stopped at iteration {len(losses)}\")\n",
    "        return loss"
   ]
  },
  {
   "cell_type": "code",
   "execution_count": null,
   "metadata": {
    "id": "A8Iyw9xYn3me"
   },
   "outputs": [],
   "source": [
    "space = {\n",
    "    'batch_size': hp.quniform('batch_size', 4, 7, 1),\n",
    "    'alpha': hp.uniform('alpha', 0.00001, 0.1),\n",
    "    'beta': hp.uniform('beta', 0, 1),\n",
    "    'model_to_use': hp.choice('model_to_use', [\"simple\", \"larger\"])\n",
    "}"
   ]
  },
  {
   "cell_type": "code",
   "execution_count": null,
   "metadata": {
    "colab": {
     "base_uri": "https://localhost:8080/"
    },
    "id": "xO0iZljinNTO",
    "outputId": "f04ab9c7-e87f-4c07-a124-4dd01a999a9e"
   },
   "outputs": [
    {
     "name": "stdout",
     "output_type": "stream",
     "text": [
      "Stopped at iteration 32\n",
      "100%|██████████| 100/100 [24:14<00:00, 14.54s/it, best loss: 0.023]\n",
      "Optimal parameters are: {'alpha': 0.09750362254227268, 'batch_size': 4.0, 'beta': 0.5017266693719692, 'model_to_use': 1}\n"
     ]
    }
   ],
   "source": [
    "losses = []\n",
    "stopped = False\n",
    "max_epochs = 100\n",
    "min_loss = -1\n",
    "min_loss_idx = -1\n",
    "\n",
    "tpe_algo = tpe.suggest\n",
    "tpe_trials = Trials()\n",
    "\n",
    "tpe_best = fmin(fn=early_stop_objective_err, space=space, algo=tpe_algo, trials=tpe_trials, \n",
    "                max_evals=max_epochs, rstate= np.random.RandomState(50))\n",
    "\n",
    "print(f\"Optimal parameters are: {tpe_best}\")"
   ]
  },
  {
   "cell_type": "code",
   "execution_count": 244,
   "metadata": {},
   "outputs": [
    {
     "data": {
      "image/png": "[encoded data removed]",
      "text/plain": [
       "<Figure size 288x216 with 1 Axes>"
      ]
     },
     "metadata": {
      "needs_background": "light"
     },
     "output_type": "display_data"
    }
   ],
   "source": [
    "# Evaluation\n",
    "best_per_epoch_mnist = [0.04816666666666667, 0.04816666666666667, 0.04616666666666667, 0.04616666666666667, 0.03283333333333333, 0.03283333333333333, 0.03283333333333333, 0.03283333333333333, 0.03283333333333333, 0.03283333333333333, 0.03283333333333333, 0.03283333333333333, 0.03283333333333333, 0.03283333333333333, 0.03283333333333333, 0.03283333333333333, 0.03283333333333333, 0.0325, 0.0325, 0.0325, 0.0325, 0.0325, 0.0325, 0.026166666666666668, 0.026166666666666668, 0.026166666666666668, 0.026166666666666668, 0.026166666666666668, 0.026166666666666668, 0.026166666666666668, 0.026166666666666668, 0.026166666666666668, 0.026166666666666668, 0.026166666666666668, 0.026166666666666668, 0.026166666666666668, 0.026166666666666668, 0.026166666666666668, 0.026166666666666668, 0.026166666666666668, 0.026166666666666668, 0.026166666666666668, 0.026166666666666668, 0.026166666666666668, 0.026166666666666668, 0.026166666666666668, 0.026166666666666668, 0.026166666666666668, 0.026166666666666668, 0.026166666666666668, 0.026166666666666668, 0.026166666666666668, 0.026166666666666668, 0.026166666666666668, 0.026166666666666668, 0.026166666666666668, 0.026166666666666668, 0.026166666666666668, 0.026166666666666668, 0.026166666666666668, 0.026166666666666668, 0.026166666666666668, 0.026166666666666668, 0.026166666666666668, 0.026166666666666668, 0.026166666666666668, 0.026166666666666668, 0.026166666666666668, 0.026166666666666668, 0.026166666666666668, 0.026166666666666668, 0.026166666666666668, 0.026166666666666668, 0.026166666666666668, 0.026166666666666668, 0.026166666666666668, 0.026166666666666668, 0.026166666666666668, 0.026166666666666668, 0.026166666666666668, 0.026166666666666668, 0.026166666666666668, 0.026166666666666668, 0.026166666666666668, 0.026166666666666668, 0.026166666666666668, 0.026166666666666668, 0.026166666666666668, 0.026166666666666668, 0.026166666666666668, 0.026166666666666668, 0.026166666666666668, 0.026166666666666668, 0.026166666666666668, 0.026166666666666668, 0.026166666666666668, 0.026166666666666668, 0.026166666666666668, 0.026166666666666668, 0.026166666666666668]\n",
    "\n",
    "fig = plt.figure(figsize=(4, 3))\n",
    "ax = fig.add_axes([0, 0, 1, 1])\n",
    "\n",
    "plt.plot(best_per_epoch_mnist, linewidth=5, color='#0000FF')\n",
    "plt.vlines(32, ymin=0, ymax=0.05, colors=['red'], linewidth=3)\n",
    "plt.plot(23, 0.026166666666666668,'ro', color='#0000FF', markersize=10) \n",
    "plt.xlim(0,100)\n",
    "plt.ylim(0, 0.05)\n",
    "plt.title(\"Lowest validation error per epoch using TPE, Strong CNN\", pad=20)\n",
    "plt.xlabel(\"Epoch\")\n",
    "plt.ylabel(\"Validation error\")\n",
    "plt.text(34, 0.005, \"Algorithm terminates\\n(epoch 32)\", fontsize=12)\n",
    "plt.text(23, 0.022, \"Lowest validation error\", fontsize=12)\n",
    "\n",
    "ax.xaxis.set_tick_params(which='major', size=10, width=2, direction='in', top='on')\n",
    "ax.xaxis.set_tick_params(which='minor', size=7, width=2, direction='in', top='on')\n",
    "ax.yaxis.set_tick_params(which='major', size=10, width=2, direction='in', right='on')\n",
    "ax.yaxis.set_tick_params(which='minor', size=7, width=2, direction='in', right='on')\n",
    "\n",
    "ax.xaxis.set_major_locator(mpl.ticker.MultipleLocator(20))\n",
    "ax.xaxis.set_minor_locator(mpl.ticker.MultipleLocator(10))\n",
    "ax.yaxis.set_major_locator(mpl.ticker.MultipleLocator(0.01))\n",
    "ax.yaxis.set_minor_locator(mpl.ticker.MultipleLocator(0.005))\n",
    "\n",
    "ax.get_yaxis().set_major_formatter(mpl.ticker.FuncFormatter(lambda x, p: str(round(100*float(x), 1)) + \"%\"))\n",
    "\n",
    "plt.show()"
   ]
  },
  {
   "cell_type": "markdown",
   "metadata": {
    "id": "tvOb1WXZxgnD"
   },
   "source": [
    "## c. Weak Neural Net (with CIFAR-10) <a class=\"anchor\" id=\"2c\"></a>"
   ]
  },
  {
   "cell_type": "code",
   "execution_count": null,
   "metadata": {
    "id": "EV8NAYpAykhV"
   },
   "outputs": [],
   "source": [
    "cifar_space = {\n",
    "    'batch_size': hp.quniform('batch_size', 4, 7, 1),\n",
    "    'alpha': hp.uniform('alpha', 0.00001, 0.1),\n",
    "    'beta': hp.uniform('beta', 0, 1)\n",
    "}"
   ]
  },
  {
   "cell_type": "code",
   "execution_count": null,
   "metadata": {
    "id": "GvOFDXtyxf4h"
   },
   "outputs": [],
   "source": [
    "def early_stop_cifar_objective_err(params):\n",
    "    params['batch_size'] = int(2**params['batch_size'])\n",
    "    \n",
    "    global cifar_stopped\n",
    "    global cifar_losses\n",
    "\n",
    "    if cifar_stopped:\n",
    "        return cifar_losses[-1]\n",
    "    else:\n",
    "        global cifar_max_epochs\n",
    "        global cifar_min_loss\n",
    "        global cifar_min_loss_idx\n",
    "        \n",
    "        val_errs = run_cifar_model(batch_size=params['batch_size'], \n",
    "                            alpha=params['alpha'],\n",
    "                            beta=params['beta'])\n",
    "        \n",
    "        loss = val_errs[-1]  \n",
    "\n",
    "        if loss < cifar_min_loss or len(cifar_losses) == 0:\n",
    "            cifar_min_loss = loss\n",
    "            cifar_min_loss_idx = len(cifar_losses)+1\n",
    "\n",
    "        cifar_losses.append(loss)\n",
    "\n",
    "        if len(cifar_losses) > cifar_max_epochs // 5 and cifar_min_loss_idx < len(cifar_losses) - cifar_max_epochs//10:\n",
    "            # we're past 20% mark, and new min hasn't been found in the last 10% of epochs\n",
    "            cifar_stopped = True\n",
    "            print(f\"Stopped at iteration {len(cifar_losses)}\")\n",
    "        return loss"
   ]
  },
  {
   "cell_type": "code",
   "execution_count": null,
   "metadata": {
    "colab": {
     "base_uri": "https://localhost:8080/"
    },
    "id": "EAq9b74Yxy4C",
    "outputId": "8aa49847-f4ac-47ea-fe9e-9d8bcfdd6856"
   },
   "outputs": [
    {
     "name": "stdout",
     "output_type": "stream",
     "text": [
      "Stopped at iteration 23\n",
      "100%|██████████| 100/100 [05:09<00:00,  3.09s/it, best loss: 0.5578333333333333]\n",
      "Optimal parameters are: {'alpha': 0.02879559665928576, 'batch_size': 4.0, 'beta': 0.8071413385798568}\n"
     ]
    }
   ],
   "source": [
    "cifar_losses = []\n",
    "cifar_stopped = False\n",
    "cifar_max_epochs = 100\n",
    "cifar_min_loss = -1\n",
    "cifar_min_loss_idx = -1\n",
    "\n",
    "cifar_tpe_algo = tpe.suggest\n",
    "cifar_tpe_trials = Trials()\n",
    "\n",
    "cifar_tpe_best = fmin(fn=early_stop_cifar_objective_err, space=cifar_space, algo=cifar_tpe_algo, trials=cifar_tpe_trials, \n",
    "                max_evals=cifar_max_epochs, rstate= np.random.RandomState(50))\n",
    "\n",
    "print(f\"Optimal parameters are: {cifar_tpe_best}\")"
   ]
  },
  {
   "cell_type": "code",
   "execution_count": 245,
   "metadata": {
    "colab": {
     "base_uri": "https://localhost:8080/",
     "height": 295
    },
    "id": "3tCf0e04AyDB",
    "outputId": "5605bc93-dc13-49fa-e7cd-105a858db72b"
   },
   "outputs": [
    {
     "data": {
      "image/png": "[encoded data removed]",
      "text/plain": [
       "<Figure size 288x216 with 1 Axes>"
      ]
     },
     "metadata": {
      "needs_background": "light"
     },
     "output_type": "display_data"
    }
   ],
   "source": [
    "# Evaluation\n",
    "error_per_epoch_cifar = [0.7451666666666666,0.6166666666666667,0.6105,0.7451666666666666,0.592,0.5928333333333333,0.5946666666666667,0.7528333333333334,0.6708333333333333,0.6048333333333333,0.7138333333333333,0.5818333333333333,0.6235,0.6676666666666666,0.6103333333333333,0.5801666666666667,0.6226666666666667,0.6551666666666667,0.7451666666666666,0.686,0.6743333333333333,0.7451666666666666,0.7451666666666666,0.5671666666666667,0.569,0.5961666666666666,0.604,0.567,0.6453333333333333,0.5893333333333334,0.6373333333333333,0.559,0.6353333333333333,0.5611666666666667,0.5948333333333333,0.5721666666666667,0.572,0.5753333333333334,0.6703333333333333,0.5805,0.618,0.566,0.668,0.6536666666666666,0.5818333333333333,0.61,0.6138333333333333,0.69,0.5975,0.5808333333333333,0.6023333333333334,0.6508333333333334,0.7193333333333334,0.6068333333333333,0.5828333333333333,0.6881666666666667,0.5568333333333333,0.6078333333333333,0.606,0.6861666666666667,0.5773333333333334,0.5651666666666667,0.5868333333333333,0.5815,0.556,0.5731666666666667,0.7451666666666666,0.5483333333333333,0.6078333333333333,0.575,0.569,0.5781666666666667,0.5768333333333333,0.6153333333333333,0.5576666666666666,0.6106666666666667,0.6298333333333334,0.5543333333333333,0.5876666666666667,0.7156666666666667,0.5978333333333333,0.5611666666666667,0.6043333333333333,0.5836666666666667,0.597,0.5758333333333333,0.5648333333333333,0.6083333333333333,0.7451666666666666,0.59,0.6061666666666666,0.5983333333333334,0.6161666666666666,0.644,0.7143333333333334,0.5566666666666666,0.6026666666666667,0.563,0.5661666666666667,0.6171666666666666,0.5665,0.5766666666666667,0.6006666666666667]\n",
    "best_per_epoch_cifar = [min(error_per_epoch_cifar[:(i+1)]) for i in range(len(error_per_epoch_cifar))]\n",
    "\n",
    "fig = plt.figure(figsize=(4, 3))\n",
    "ax = fig.add_axes([0, 0, 1, 1])\n",
    "\n",
    "plt.plot(best_per_epoch_cifar, linewidth=5, color='#0000FF')\n",
    "plt.vlines(23, ymin=0, ymax=0.8, colors=['red'], linewidth=3)\n",
    "plt.plot(67, 0.5483333333333333,'ro', color='#0000FF', markersize=10) \n",
    "plt.xlim(0,100)\n",
    "plt.ylim(0,0.8)\n",
    "plt.title(\"Lowest validation error per epoch using TPE, Weak CNN\", pad=20)\n",
    "plt.xlabel(\"Epoch\")\n",
    "plt.ylabel(\"Validation error\")\n",
    "plt.text(25, 0.05, \"Algorithm terminates\\n(epoch 23)\", fontsize=12)\n",
    "plt.text(67, 0.4983333333333333, \"Lowest validation error\", horizontalalignment='right', fontsize=12)\n",
    "\n",
    "ax.xaxis.set_tick_params(which='major', size=10, width=2, direction='in', top='on')\n",
    "ax.xaxis.set_tick_params(which='minor', size=7, width=2, direction='in', top='on')\n",
    "ax.yaxis.set_tick_params(which='major', size=10, width=2, direction='in', right='on')\n",
    "ax.yaxis.set_tick_params(which='minor', size=7, width=2, direction='in', right='on')\n",
    "\n",
    "ax.xaxis.set_major_locator(mpl.ticker.MultipleLocator(20))\n",
    "ax.xaxis.set_minor_locator(mpl.ticker.MultipleLocator(10))\n",
    "ax.yaxis.set_major_locator(mpl.ticker.MultipleLocator(0.2))\n",
    "ax.yaxis.set_minor_locator(mpl.ticker.MultipleLocator(0.1))\n",
    "\n",
    "ax.get_yaxis().set_major_formatter(mpl.ticker.FuncFormatter(lambda x, p: str(round(100*float(x), 1)) + \"%\"))\n",
    "\n",
    "plt.show()"
   ]
  },
  {
   "cell_type": "code",
   "execution_count": null,
   "metadata": {},
   "outputs": [],
   "source": []
  }
 ],
 "metadata": {
  "accelerator": "GPU",
  "colab": {
   "name": "final_project.ipynb",
   "provenance": []
  },
  "kernelspec": {
   "display_name": "Python 3",
   "language": "python",
   "name": "python3"
  },
  "language_info": {
   "codemirror_mode": {
    "name": "ipython",
    "version": 3
   },
   "file_extension": ".py",
   "mimetype": "text/x-python",
   "name": "python",
   "nbconvert_exporter": "python",
   "pygments_lexer": "ipython3",
   "version": "3.7.6"
  }
 },
 "nbformat": 4,
 "nbformat_minor": 1
}
